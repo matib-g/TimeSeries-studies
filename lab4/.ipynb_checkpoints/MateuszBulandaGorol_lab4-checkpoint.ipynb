{
 "cells": [
  {
   "cell_type": "markdown",
   "metadata": {},
   "source": [
    "# Imports"
   ]
  },
  {
   "cell_type": "code",
   "execution_count": 41,
   "metadata": {},
   "outputs": [],
   "source": [
    "import numpy as np\n",
    "import pandas as pd\n",
    "from statsmodels.tsa.api import SimpleExpSmoothing\n",
    "import matplotlib.pyplot as plt\n",
    "from sklearn.metrics import mean_squared_error\n",
    "from statsmodels.tsa.api import ExponentialSmoothing, SimpleExpSmoothing, Holt"
   ]
  },
  {
   "cell_type": "markdown",
   "metadata": {},
   "source": [
    "# 1. Grid search for double exponential smoothing (Holt’s method)"
   ]
  },
  {
   "cell_type": "markdown",
   "metadata": {},
   "source": [
    "## DataFrame preparing"
   ]
  },
  {
   "cell_type": "code",
   "execution_count": 42,
   "metadata": {
    "scrolled": true
   },
   "outputs": [
    {
     "data": {
      "text/html": [
       "<div>\n",
       "<style scoped>\n",
       "    .dataframe tbody tr th:only-of-type {\n",
       "        vertical-align: middle;\n",
       "    }\n",
       "\n",
       "    .dataframe tbody tr th {\n",
       "        vertical-align: top;\n",
       "    }\n",
       "\n",
       "    .dataframe thead th {\n",
       "        text-align: right;\n",
       "    }\n",
       "</style>\n",
       "<table border=\"1\" class=\"dataframe\">\n",
       "  <thead>\n",
       "    <tr style=\"text-align: right;\">\n",
       "      <th></th>\n",
       "      <th>Open</th>\n",
       "      <th>High</th>\n",
       "      <th>Low</th>\n",
       "      <th>Close</th>\n",
       "      <th>Adj Close</th>\n",
       "      <th>Volume</th>\n",
       "    </tr>\n",
       "    <tr>\n",
       "      <th>Date</th>\n",
       "      <th></th>\n",
       "      <th></th>\n",
       "      <th></th>\n",
       "      <th></th>\n",
       "      <th></th>\n",
       "      <th></th>\n",
       "    </tr>\n",
       "  </thead>\n",
       "  <tbody>\n",
       "    <tr>\n",
       "      <th>1962-01-02</th>\n",
       "      <td>7.374124</td>\n",
       "      <td>7.374124</td>\n",
       "      <td>7.291268</td>\n",
       "      <td>7.291268</td>\n",
       "      <td>1.626882</td>\n",
       "      <td>407940</td>\n",
       "    </tr>\n",
       "    <tr>\n",
       "      <th>1962-01-03</th>\n",
       "      <td>7.291268</td>\n",
       "      <td>7.355003</td>\n",
       "      <td>7.291268</td>\n",
       "      <td>7.355003</td>\n",
       "      <td>1.641102</td>\n",
       "      <td>305955</td>\n",
       "    </tr>\n",
       "    <tr>\n",
       "      <th>1962-01-04</th>\n",
       "      <td>7.355003</td>\n",
       "      <td>7.355003</td>\n",
       "      <td>7.278521</td>\n",
       "      <td>7.281708</td>\n",
       "      <td>1.624747</td>\n",
       "      <td>274575</td>\n",
       "    </tr>\n",
       "    <tr>\n",
       "      <th>1962-01-05</th>\n",
       "      <td>7.272148</td>\n",
       "      <td>7.272148</td>\n",
       "      <td>7.125558</td>\n",
       "      <td>7.138305</td>\n",
       "      <td>1.592750</td>\n",
       "      <td>384405</td>\n",
       "    </tr>\n",
       "    <tr>\n",
       "      <th>1962-01-08</th>\n",
       "      <td>7.131931</td>\n",
       "      <td>7.131931</td>\n",
       "      <td>6.947100</td>\n",
       "      <td>7.004461</td>\n",
       "      <td>1.562886</td>\n",
       "      <td>572685</td>\n",
       "    </tr>\n",
       "    <tr>\n",
       "      <th>1962-01-09</th>\n",
       "      <td>7.036329</td>\n",
       "      <td>7.176546</td>\n",
       "      <td>7.036329</td>\n",
       "      <td>7.087317</td>\n",
       "      <td>1.581374</td>\n",
       "      <td>517770</td>\n",
       "    </tr>\n",
       "    <tr>\n",
       "      <th>1962-01-10</th>\n",
       "      <td>7.100064</td>\n",
       "      <td>7.131931</td>\n",
       "      <td>7.100064</td>\n",
       "      <td>7.100064</td>\n",
       "      <td>1.584217</td>\n",
       "      <td>313800</td>\n",
       "    </tr>\n",
       "    <tr>\n",
       "      <th>1962-01-11</th>\n",
       "      <td>7.119184</td>\n",
       "      <td>7.176546</td>\n",
       "      <td>7.119184</td>\n",
       "      <td>7.176546</td>\n",
       "      <td>1.601283</td>\n",
       "      <td>337335</td>\n",
       "    </tr>\n",
       "    <tr>\n",
       "      <th>1962-01-12</th>\n",
       "      <td>7.189293</td>\n",
       "      <td>7.240280</td>\n",
       "      <td>7.189293</td>\n",
       "      <td>7.189293</td>\n",
       "      <td>1.604127</td>\n",
       "      <td>462855</td>\n",
       "    </tr>\n",
       "    <tr>\n",
       "      <th>1962-01-15</th>\n",
       "      <td>7.214786</td>\n",
       "      <td>7.237094</td>\n",
       "      <td>7.214786</td>\n",
       "      <td>7.221160</td>\n",
       "      <td>1.611237</td>\n",
       "      <td>266730</td>\n",
       "    </tr>\n",
       "    <tr>\n",
       "      <th>1962-01-16</th>\n",
       "      <td>7.214786</td>\n",
       "      <td>7.214786</td>\n",
       "      <td>7.144678</td>\n",
       "      <td>7.144678</td>\n",
       "      <td>1.594173</td>\n",
       "      <td>266730</td>\n",
       "    </tr>\n",
       "    <tr>\n",
       "      <th>1962-01-17</th>\n",
       "      <td>7.112811</td>\n",
       "      <td>7.112811</td>\n",
       "      <td>7.010835</td>\n",
       "      <td>7.029955</td>\n",
       "      <td>1.568574</td>\n",
       "      <td>439320</td>\n",
       "    </tr>\n",
       "    <tr>\n",
       "      <th>1962-01-18</th>\n",
       "      <td>7.049076</td>\n",
       "      <td>7.119184</td>\n",
       "      <td>7.049076</td>\n",
       "      <td>7.049076</td>\n",
       "      <td>1.572841</td>\n",
       "      <td>392250</td>\n",
       "    </tr>\n",
       "    <tr>\n",
       "      <th>1962-01-19</th>\n",
       "      <td>7.049076</td>\n",
       "      <td>7.068196</td>\n",
       "      <td>6.972594</td>\n",
       "      <td>7.055449</td>\n",
       "      <td>1.574263</td>\n",
       "      <td>423630</td>\n",
       "    </tr>\n",
       "    <tr>\n",
       "      <th>1962-01-22</th>\n",
       "      <td>7.055449</td>\n",
       "      <td>7.125558</td>\n",
       "      <td>7.036329</td>\n",
       "      <td>7.042702</td>\n",
       "      <td>1.571419</td>\n",
       "      <td>290265</td>\n",
       "    </tr>\n",
       "  </tbody>\n",
       "</table>\n",
       "</div>"
      ],
      "text/plain": [
       "                Open      High       Low     Close  Adj Close  Volume\n",
       "Date                                                                 \n",
       "1962-01-02  7.374124  7.374124  7.291268  7.291268   1.626882  407940\n",
       "1962-01-03  7.291268  7.355003  7.291268  7.355003   1.641102  305955\n",
       "1962-01-04  7.355003  7.355003  7.278521  7.281708   1.624747  274575\n",
       "1962-01-05  7.272148  7.272148  7.125558  7.138305   1.592750  384405\n",
       "1962-01-08  7.131931  7.131931  6.947100  7.004461   1.562886  572685\n",
       "1962-01-09  7.036329  7.176546  7.036329  7.087317   1.581374  517770\n",
       "1962-01-10  7.100064  7.131931  7.100064  7.100064   1.584217  313800\n",
       "1962-01-11  7.119184  7.176546  7.119184  7.176546   1.601283  337335\n",
       "1962-01-12  7.189293  7.240280  7.189293  7.189293   1.604127  462855\n",
       "1962-01-15  7.214786  7.237094  7.214786  7.221160   1.611237  266730\n",
       "1962-01-16  7.214786  7.214786  7.144678  7.144678   1.594173  266730\n",
       "1962-01-17  7.112811  7.112811  7.010835  7.029955   1.568574  439320\n",
       "1962-01-18  7.049076  7.119184  7.049076  7.049076   1.572841  392250\n",
       "1962-01-19  7.049076  7.068196  6.972594  7.055449   1.574263  423630\n",
       "1962-01-22  7.055449  7.125558  7.036329  7.042702   1.571419  290265"
      ]
     },
     "execution_count": 42,
     "metadata": {},
     "output_type": "execute_result"
    }
   ],
   "source": [
    "df = pd.read_csv(\"IBM.csv\", index_col='Date', parse_dates=True)\n",
    "df.head(15)"
   ]
  },
  {
   "cell_type": "markdown",
   "metadata": {},
   "source": [
    "## Double exponential smoothing model"
   ]
  },
  {
   "cell_type": "code",
   "execution_count": 43,
   "metadata": {},
   "outputs": [],
   "source": [
    "def levelComponent(alpha,y,lTprev,bTprev):\n",
    "    return alpha*y+(1-alpha)*(lTprev+bTprev)"
   ]
  },
  {
   "cell_type": "code",
   "execution_count": 44,
   "metadata": {},
   "outputs": [],
   "source": [
    "def trendComponent(beta,l,lTprev,bTprev):\n",
    "    return beta*(1-lTprev)+(1-beta)*bTprev"
   ]
  },
  {
   "cell_type": "code",
   "execution_count": 45,
   "metadata": {},
   "outputs": [],
   "source": [
    "def des(l,b):\n",
    "    return l+b"
   ]
  },
  {
   "cell_type": "markdown",
   "metadata": {},
   "source": [
    "## Grid search"
   ]
  },
  {
   "cell_type": "code",
   "execution_count": 46,
   "metadata": {},
   "outputs": [],
   "source": [
    "errors = {}\n",
    "tVal = df['Close'].values\n",
    "dfCopy = df.copy()"
   ]
  },
  {
   "cell_type": "code",
   "execution_count": 47,
   "metadata": {},
   "outputs": [],
   "source": [
    "for alpha in np.linspace(0,1,101):\n",
    "    for beta in np.linspace(0,1,101):\n",
    "        desVal = []\n",
    "        init = tVal[1]-tVal[0]\n",
    "        l = levelComponent(alpha,tVal[1],tVal[0],init)\n",
    "        b = trendComponent(beta,tVal[1],tVal[0],init)\n",
    "        forecastVal = des(l,b)\n",
    "        desVal.append(forecastVal)\n",
    "        for i in range(2,len(tVal)-2):\n",
    "            lTprev = l\n",
    "            bTprev = b\n",
    "            l = levelComponent(alpha,tVal[i],lTprev,bTprev)\n",
    "            b = trendComponent(beta,l,lTprev,bTprev)\n",
    "            forecastVal = des(l,b)\n",
    "            desVal.append(forecastVal)\n",
    "        values = (alpha,beta,init,tVal[0])\n",
    "        errors[values] = mean_squared_error(tVal[3:],desVal)\n",
    "        \n",
    "minError = min(errors, key=errors.get)\n",
    "        #df['des'] = desVal\n",
    "        #print(f'Black - true value, blue - DES value for alpha={alpha}, beta={beta}')\n",
    "        #plt.figure(figsize=(12,8))\n",
    "        #plt.plot(exp['Export'],marker=\"o\", color=\"black\")\n",
    "        #plt.plot(exp['des'], marker=\"o\", color=\"blue\")\n",
    "        #plt.show()"
   ]
  },
  {
   "cell_type": "code",
   "execution_count": 48,
   "metadata": {},
   "outputs": [
    {
     "data": {
      "text/plain": [
       "(1.0, 0.0, 0.06373500000000032, 7.291268)"
      ]
     },
     "execution_count": 48,
     "metadata": {},
     "output_type": "execute_result"
    }
   ],
   "source": [
    "minError"
   ]
  },
  {
   "cell_type": "code",
   "execution_count": 50,
   "metadata": {},
   "outputs": [
    {
     "name": "stdout",
     "output_type": "stream",
     "text": [
      "smallest error in DES:\t0.016010641411090674\n",
      "alpha:\t1.0\n",
      "beta:\t0.0\n",
      "initial trend value:\t0.06373500000000032\n",
      "initial level value:\t7.291268\n"
     ]
    }
   ],
   "source": [
    "print(f'smallest error in DES:\\t{errors[minError]}')\n",
    "print(f'alpha:\\t{minError[0]}')\n",
    "print(f'beta:\\t{minError[1]}')\n",
    "print(f'initial trend value:\\t{minError[2]}')\n",
    "print(f'initial level value:\\t{minError[3]}')"
   ]
  },
  {
   "cell_type": "code",
   "execution_count": 51,
   "metadata": {},
   "outputs": [
    {
     "name": "stderr",
     "output_type": "stream",
     "text": [
      "/Users/mateuszbulanda-gorol/opt/anaconda3/lib/python3.8/site-packages/statsmodels/tsa/base/tsa_model.py:581: ValueWarning: A date index has been provided, but it has no associated frequency information and so will be ignored when e.g. forecasting.\n",
      "  warnings.warn('A date index has been provided, but it has no'\n",
      "/Users/mateuszbulanda-gorol/opt/anaconda3/lib/python3.8/site-packages/statsmodels/tsa/holtwinters/model.py:427: FutureWarning: After 0.13 initialization must be handled at model creation\n",
      "  warnings.warn(\n"
     ]
    }
   ],
   "source": [
    "holt = Holt(df['Close'], exponential=True).fit()"
   ]
  },
  {
   "cell_type": "markdown",
   "metadata": {},
   "source": [
    "## Comparing results with statsmodel"
   ]
  },
  {
   "cell_type": "code",
   "execution_count": 52,
   "metadata": {},
   "outputs": [
    {
     "name": "stdout",
     "output_type": "stream",
     "text": [
      "error:\t0.005785006479054144\n",
      "alpha:\t0.9999999850988388\n",
      "beta:\t0.006198047031290193\n",
      "initial_trend:\t0.9978735523176517\n",
      "initial_level:\t7.306862061606872\n"
     ]
    }
   ],
   "source": [
    "print(f'error:\\t{mean_squared_error(df[\"Close\"],holt.fittedvalues)}')\n",
    "print(f'alpha:\\t{holt.model.params[\"smoothing_level\"]}')\n",
    "print(f'beta:\\t{holt.model.params[\"smoothing_trend\"]}')\n",
    "print(f'initial_trend:\\t{holt.model.params[\"initial_trend\"]}')\n",
    "print(f'initial_level:\\t{holt.model.params[\"initial_level\"]}')"
   ]
  },
  {
   "cell_type": "markdown",
   "metadata": {},
   "source": [
    "### We can see that in my model error is twice as large as in the statsmodel, moreover initial trent value is much bigger in statsmodel. Other parameters is quite similar in both models."
   ]
  }
 ],
 "metadata": {
  "kernelspec": {
   "display_name": "Python 3",
   "language": "python",
   "name": "python3"
  },
  "language_info": {
   "codemirror_mode": {
    "name": "ipython",
    "version": 3
   },
   "file_extension": ".py",
   "mimetype": "text/x-python",
   "name": "python",
   "nbconvert_exporter": "python",
   "pygments_lexer": "ipython3",
   "version": "3.8.5"
  }
 },
 "nbformat": 4,
 "nbformat_minor": 4
}
