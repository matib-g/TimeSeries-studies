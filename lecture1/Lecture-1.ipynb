{
 "cells": [
  {
   "cell_type": "markdown",
   "metadata": {},
   "source": [
    "# Python datetime"
   ]
  },
  {
   "cell_type": "code",
   "execution_count": 3,
   "metadata": {},
   "outputs": [],
   "source": [
    "import numpy as np\n",
    "import pandas as pd\n",
    "from datetime import datetime"
   ]
  },
  {
   "cell_type": "code",
   "execution_count": 4,
   "metadata": {},
   "outputs": [
    {
     "data": {
      "text/plain": [
       "datetime.datetime(2022, 3, 4, 9, 24, 23, 56)"
      ]
     },
     "execution_count": 4,
     "metadata": {},
     "output_type": "execute_result"
    }
   ],
   "source": [
    "my_date = datetime(2022,3,4,9,24,23,56)\n",
    "my_date"
   ]
  },
  {
   "cell_type": "code",
   "execution_count": 5,
   "metadata": {},
   "outputs": [
    {
     "data": {
      "text/plain": [
       "9"
      ]
     },
     "execution_count": 5,
     "metadata": {},
     "output_type": "execute_result"
    }
   ],
   "source": [
    "my_date.hour"
   ]
  },
  {
   "cell_type": "markdown",
   "metadata": {},
   "source": [
    "# Numpy datetime64"
   ]
  },
  {
   "cell_type": "code",
   "execution_count": 6,
   "metadata": {},
   "outputs": [
    {
     "data": {
      "text/plain": [
       "array(['2022-03-04', '2022-03-05', '2022-03-06'], dtype='datetime64[D]')"
      ]
     },
     "execution_count": 6,
     "metadata": {},
     "output_type": "execute_result"
    }
   ],
   "source": [
    "some_dates = np.array(['2022-03-04', '2022-03-05', '2022-03-06'], dtype = 'datetime64')\n",
    "some_dates"
   ]
  },
  {
   "cell_type": "code",
   "execution_count": 7,
   "metadata": {},
   "outputs": [
    {
     "data": {
      "text/plain": [
       "array(['2022-03-04T00', '2022-03-05T00', '2022-03-06T00'],\n",
       "      dtype='datetime64[h]')"
      ]
     },
     "execution_count": 7,
     "metadata": {},
     "output_type": "execute_result"
    }
   ],
   "source": [
    "some_dates = np.array(['2022-03-04', '2022-03-05', '2022-03-06'], dtype = 'datetime64[h]')\n",
    "some_dates"
   ]
  },
  {
   "cell_type": "markdown",
   "metadata": {},
   "source": [
    "# Pandas Datetime index"
   ]
  },
  {
   "cell_type": "code",
   "execution_count": 8,
   "metadata": {},
   "outputs": [
    {
     "data": {
      "text/plain": [
       "DatetimeIndex(['2022-03-04', '2022-03-05', '2022-03-06'], dtype='datetime64[ns]', freq='D')"
      ]
     },
     "execution_count": 8,
     "metadata": {},
     "output_type": "execute_result"
    }
   ],
   "source": [
    "idx = pd.date_range('2022-3-4', periods = 3, freq = 'D')\n",
    "idx"
   ]
  },
  {
   "cell_type": "code",
   "execution_count": 9,
   "metadata": {},
   "outputs": [
    {
     "name": "stdout",
     "output_type": "stream",
     "text": [
      "[[ 2.70684984  0.62813271]\n",
      " [ 0.90796945  0.50382575]\n",
      " [ 0.65111795 -0.31931804]]\n"
     ]
    }
   ],
   "source": [
    "np.random.seed(101)\n",
    "data = np.random.randn(3, 2)\n",
    "cols = ['A', 'B']\n",
    "print(data)"
   ]
  },
  {
   "cell_type": "code",
   "execution_count": 10,
   "metadata": {},
   "outputs": [
    {
     "data": {
      "text/html": [
       "<div>\n",
       "<style scoped>\n",
       "    .dataframe tbody tr th:only-of-type {\n",
       "        vertical-align: middle;\n",
       "    }\n",
       "\n",
       "    .dataframe tbody tr th {\n",
       "        vertical-align: top;\n",
       "    }\n",
       "\n",
       "    .dataframe thead th {\n",
       "        text-align: right;\n",
       "    }\n",
       "</style>\n",
       "<table border=\"1\" class=\"dataframe\">\n",
       "  <thead>\n",
       "    <tr style=\"text-align: right;\">\n",
       "      <th></th>\n",
       "      <th>A</th>\n",
       "      <th>B</th>\n",
       "    </tr>\n",
       "  </thead>\n",
       "  <tbody>\n",
       "    <tr>\n",
       "      <th>2022-03-04</th>\n",
       "      <td>2.706850</td>\n",
       "      <td>0.628133</td>\n",
       "    </tr>\n",
       "    <tr>\n",
       "      <th>2022-03-05</th>\n",
       "      <td>0.907969</td>\n",
       "      <td>0.503826</td>\n",
       "    </tr>\n",
       "    <tr>\n",
       "      <th>2022-03-06</th>\n",
       "      <td>0.651118</td>\n",
       "      <td>-0.319318</td>\n",
       "    </tr>\n",
       "  </tbody>\n",
       "</table>\n",
       "</div>"
      ],
      "text/plain": [
       "                   A         B\n",
       "2022-03-04  2.706850  0.628133\n",
       "2022-03-05  0.907969  0.503826\n",
       "2022-03-06  0.651118 -0.319318"
      ]
     },
     "execution_count": 10,
     "metadata": {},
     "output_type": "execute_result"
    }
   ],
   "source": [
    "df = pd.DataFrame(data, idx, cols)\n",
    "df"
   ]
  },
  {
   "cell_type": "code",
   "execution_count": 11,
   "metadata": {},
   "outputs": [
    {
     "data": {
      "text/plain": [
       "DatetimeIndex(['2022-03-04', '2022-03-05', '2022-03-06'], dtype='datetime64[ns]', freq='D')"
      ]
     },
     "execution_count": 11,
     "metadata": {},
     "output_type": "execute_result"
    }
   ],
   "source": [
    "df.index"
   ]
  },
  {
   "cell_type": "code",
   "execution_count": 12,
   "metadata": {},
   "outputs": [
    {
     "data": {
      "text/plain": [
       "Timestamp('2022-03-06 00:00:00', freq='D')"
      ]
     },
     "execution_count": 12,
     "metadata": {},
     "output_type": "execute_result"
    }
   ],
   "source": [
    "df.index.max()"
   ]
  },
  {
   "cell_type": "code",
   "execution_count": 13,
   "metadata": {},
   "outputs": [
    {
     "data": {
      "text/plain": [
       "2"
      ]
     },
     "execution_count": 13,
     "metadata": {},
     "output_type": "execute_result"
    }
   ],
   "source": [
    "df.index.argmax()"
   ]
  },
  {
   "cell_type": "code",
   "execution_count": 14,
   "metadata": {},
   "outputs": [
    {
     "data": {
      "text/plain": [
       "Timestamp('2022-03-04 00:00:00', freq='D')"
      ]
     },
     "execution_count": 14,
     "metadata": {},
     "output_type": "execute_result"
    }
   ],
   "source": [
    "df['A'].idxmax()"
   ]
  },
  {
   "cell_type": "markdown",
   "metadata": {},
   "source": [
    "# Starbucks stock"
   ]
  },
  {
   "cell_type": "code",
   "execution_count": 15,
   "metadata": {},
   "outputs": [],
   "source": [
    "df = pd.read_csv('SBUX.csv')"
   ]
  },
  {
   "cell_type": "code",
   "execution_count": 16,
   "metadata": {},
   "outputs": [
    {
     "data": {
      "text/plain": [
       "<bound method DataFrame.info of            Date        Open        High         Low       Close   Adj Close  \\\n",
       "0    2020-01-02   88.120003   89.349998   88.050003   89.349998   85.686356   \n",
       "1    2020-01-03   88.660004   89.099998   88.099998   88.830002   85.187660   \n",
       "2    2020-01-06   88.110001   88.410004   87.470001   88.129997   84.516373   \n",
       "3    2020-01-07   87.959999   88.029999   87.129997   87.860001   84.257439   \n",
       "4    2020-01-08   87.940002   89.349998   87.779999   88.879997   85.235626   \n",
       "..          ...         ...         ...         ...         ...         ...   \n",
       "499  2021-12-23  112.230003  112.910004  111.989998  112.370003  111.803123   \n",
       "500  2021-12-27  112.599998  114.370003  112.389999  114.220001  113.643791   \n",
       "501  2021-12-28  114.000000  116.279999  113.809998  115.570000  114.986977   \n",
       "502  2021-12-29  115.400002  116.959999  115.309998  116.379997  115.792885   \n",
       "503  2021-12-30  116.379997  117.339996  116.080002  116.239998  115.653595   \n",
       "\n",
       "      Volume  \n",
       "0    6473800  \n",
       "1    4874100  \n",
       "2    5409800  \n",
       "3    6514700  \n",
       "4    7296300  \n",
       "..       ...  \n",
       "499  3359600  \n",
       "500  3716700  \n",
       "501  4561600  \n",
       "502  4215300  \n",
       "503  4068700  \n",
       "\n",
       "[504 rows x 7 columns]>"
      ]
     },
     "execution_count": 16,
     "metadata": {},
     "output_type": "execute_result"
    }
   ],
   "source": [
    "df.info"
   ]
  },
  {
   "cell_type": "code",
   "execution_count": 17,
   "metadata": {},
   "outputs": [
    {
     "data": {
      "text/plain": [
       "Date          object\n",
       "Open         float64\n",
       "High         float64\n",
       "Low          float64\n",
       "Close        float64\n",
       "Adj Close    float64\n",
       "Volume         int64\n",
       "dtype: object"
      ]
     },
     "execution_count": 17,
     "metadata": {},
     "output_type": "execute_result"
    }
   ],
   "source": [
    "df.dtypes"
   ]
  },
  {
   "cell_type": "code",
   "execution_count": 19,
   "metadata": {},
   "outputs": [
    {
     "data": {
      "text/html": [
       "<div>\n",
       "<style scoped>\n",
       "    .dataframe tbody tr th:only-of-type {\n",
       "        vertical-align: middle;\n",
       "    }\n",
       "\n",
       "    .dataframe tbody tr th {\n",
       "        vertical-align: top;\n",
       "    }\n",
       "\n",
       "    .dataframe thead th {\n",
       "        text-align: right;\n",
       "    }\n",
       "</style>\n",
       "<table border=\"1\" class=\"dataframe\">\n",
       "  <thead>\n",
       "    <tr style=\"text-align: right;\">\n",
       "      <th></th>\n",
       "      <th>Open</th>\n",
       "      <th>High</th>\n",
       "      <th>Low</th>\n",
       "      <th>Close</th>\n",
       "      <th>Adj Close</th>\n",
       "      <th>Volume</th>\n",
       "    </tr>\n",
       "    <tr>\n",
       "      <th>Date</th>\n",
       "      <th></th>\n",
       "      <th></th>\n",
       "      <th></th>\n",
       "      <th></th>\n",
       "      <th></th>\n",
       "      <th></th>\n",
       "    </tr>\n",
       "  </thead>\n",
       "  <tbody>\n",
       "    <tr>\n",
       "      <th>2020-01-02</th>\n",
       "      <td>88.120003</td>\n",
       "      <td>89.349998</td>\n",
       "      <td>88.050003</td>\n",
       "      <td>89.349998</td>\n",
       "      <td>85.686356</td>\n",
       "      <td>6473800</td>\n",
       "    </tr>\n",
       "    <tr>\n",
       "      <th>2020-01-03</th>\n",
       "      <td>88.660004</td>\n",
       "      <td>89.099998</td>\n",
       "      <td>88.099998</td>\n",
       "      <td>88.830002</td>\n",
       "      <td>85.187660</td>\n",
       "      <td>4874100</td>\n",
       "    </tr>\n",
       "    <tr>\n",
       "      <th>2020-01-06</th>\n",
       "      <td>88.110001</td>\n",
       "      <td>88.410004</td>\n",
       "      <td>87.470001</td>\n",
       "      <td>88.129997</td>\n",
       "      <td>84.516373</td>\n",
       "      <td>5409800</td>\n",
       "    </tr>\n",
       "    <tr>\n",
       "      <th>2020-01-07</th>\n",
       "      <td>87.959999</td>\n",
       "      <td>88.029999</td>\n",
       "      <td>87.129997</td>\n",
       "      <td>87.860001</td>\n",
       "      <td>84.257439</td>\n",
       "      <td>6514700</td>\n",
       "    </tr>\n",
       "    <tr>\n",
       "      <th>2020-01-08</th>\n",
       "      <td>87.940002</td>\n",
       "      <td>89.349998</td>\n",
       "      <td>87.779999</td>\n",
       "      <td>88.879997</td>\n",
       "      <td>85.235626</td>\n",
       "      <td>7296300</td>\n",
       "    </tr>\n",
       "    <tr>\n",
       "      <th>...</th>\n",
       "      <td>...</td>\n",
       "      <td>...</td>\n",
       "      <td>...</td>\n",
       "      <td>...</td>\n",
       "      <td>...</td>\n",
       "      <td>...</td>\n",
       "    </tr>\n",
       "    <tr>\n",
       "      <th>2021-12-23</th>\n",
       "      <td>112.230003</td>\n",
       "      <td>112.910004</td>\n",
       "      <td>111.989998</td>\n",
       "      <td>112.370003</td>\n",
       "      <td>111.803123</td>\n",
       "      <td>3359600</td>\n",
       "    </tr>\n",
       "    <tr>\n",
       "      <th>2021-12-27</th>\n",
       "      <td>112.599998</td>\n",
       "      <td>114.370003</td>\n",
       "      <td>112.389999</td>\n",
       "      <td>114.220001</td>\n",
       "      <td>113.643791</td>\n",
       "      <td>3716700</td>\n",
       "    </tr>\n",
       "    <tr>\n",
       "      <th>2021-12-28</th>\n",
       "      <td>114.000000</td>\n",
       "      <td>116.279999</td>\n",
       "      <td>113.809998</td>\n",
       "      <td>115.570000</td>\n",
       "      <td>114.986977</td>\n",
       "      <td>4561600</td>\n",
       "    </tr>\n",
       "    <tr>\n",
       "      <th>2021-12-29</th>\n",
       "      <td>115.400002</td>\n",
       "      <td>116.959999</td>\n",
       "      <td>115.309998</td>\n",
       "      <td>116.379997</td>\n",
       "      <td>115.792885</td>\n",
       "      <td>4215300</td>\n",
       "    </tr>\n",
       "    <tr>\n",
       "      <th>2021-12-30</th>\n",
       "      <td>116.379997</td>\n",
       "      <td>117.339996</td>\n",
       "      <td>116.080002</td>\n",
       "      <td>116.239998</td>\n",
       "      <td>115.653595</td>\n",
       "      <td>4068700</td>\n",
       "    </tr>\n",
       "  </tbody>\n",
       "</table>\n",
       "<p>504 rows × 6 columns</p>\n",
       "</div>"
      ],
      "text/plain": [
       "                  Open        High         Low       Close   Adj Close  \\\n",
       "Date                                                                     \n",
       "2020-01-02   88.120003   89.349998   88.050003   89.349998   85.686356   \n",
       "2020-01-03   88.660004   89.099998   88.099998   88.830002   85.187660   \n",
       "2020-01-06   88.110001   88.410004   87.470001   88.129997   84.516373   \n",
       "2020-01-07   87.959999   88.029999   87.129997   87.860001   84.257439   \n",
       "2020-01-08   87.940002   89.349998   87.779999   88.879997   85.235626   \n",
       "...                ...         ...         ...         ...         ...   \n",
       "2021-12-23  112.230003  112.910004  111.989998  112.370003  111.803123   \n",
       "2021-12-27  112.599998  114.370003  112.389999  114.220001  113.643791   \n",
       "2021-12-28  114.000000  116.279999  113.809998  115.570000  114.986977   \n",
       "2021-12-29  115.400002  116.959999  115.309998  116.379997  115.792885   \n",
       "2021-12-30  116.379997  117.339996  116.080002  116.239998  115.653595   \n",
       "\n",
       "             Volume  \n",
       "Date                 \n",
       "2020-01-02  6473800  \n",
       "2020-01-03  4874100  \n",
       "2020-01-06  5409800  \n",
       "2020-01-07  6514700  \n",
       "2020-01-08  7296300  \n",
       "...             ...  \n",
       "2021-12-23  3359600  \n",
       "2021-12-27  3716700  \n",
       "2021-12-28  4561600  \n",
       "2021-12-29  4215300  \n",
       "2021-12-30  4068700  \n",
       "\n",
       "[504 rows x 6 columns]"
      ]
     },
     "execution_count": 19,
     "metadata": {},
     "output_type": "execute_result"
    }
   ],
   "source": [
    "df['Date'] = pd.to_datetime(df['Date'])\n",
    "df.set_index('Date', inplace = True)\n",
    "df"
   ]
  },
  {
   "cell_type": "code",
   "execution_count": 21,
   "metadata": {},
   "outputs": [
    {
     "data": {
      "text/html": [
       "<div>\n",
       "<style scoped>\n",
       "    .dataframe tbody tr th:only-of-type {\n",
       "        vertical-align: middle;\n",
       "    }\n",
       "\n",
       "    .dataframe tbody tr th {\n",
       "        vertical-align: top;\n",
       "    }\n",
       "\n",
       "    .dataframe thead th {\n",
       "        text-align: right;\n",
       "    }\n",
       "</style>\n",
       "<table border=\"1\" class=\"dataframe\">\n",
       "  <thead>\n",
       "    <tr style=\"text-align: right;\">\n",
       "      <th></th>\n",
       "      <th>Open</th>\n",
       "      <th>High</th>\n",
       "      <th>Low</th>\n",
       "      <th>Close</th>\n",
       "      <th>Adj Close</th>\n",
       "      <th>Volume</th>\n",
       "    </tr>\n",
       "    <tr>\n",
       "      <th>Date</th>\n",
       "      <th></th>\n",
       "      <th></th>\n",
       "      <th></th>\n",
       "      <th></th>\n",
       "      <th></th>\n",
       "      <th></th>\n",
       "    </tr>\n",
       "  </thead>\n",
       "  <tbody>\n",
       "    <tr>\n",
       "      <th>2020-01-02</th>\n",
       "      <td>88.120003</td>\n",
       "      <td>89.349998</td>\n",
       "      <td>88.050003</td>\n",
       "      <td>89.349998</td>\n",
       "      <td>85.686356</td>\n",
       "      <td>6473800</td>\n",
       "    </tr>\n",
       "    <tr>\n",
       "      <th>2020-01-03</th>\n",
       "      <td>88.660004</td>\n",
       "      <td>89.099998</td>\n",
       "      <td>88.099998</td>\n",
       "      <td>88.830002</td>\n",
       "      <td>85.187660</td>\n",
       "      <td>4874100</td>\n",
       "    </tr>\n",
       "    <tr>\n",
       "      <th>2020-01-06</th>\n",
       "      <td>88.110001</td>\n",
       "      <td>88.410004</td>\n",
       "      <td>87.470001</td>\n",
       "      <td>88.129997</td>\n",
       "      <td>84.516373</td>\n",
       "      <td>5409800</td>\n",
       "    </tr>\n",
       "    <tr>\n",
       "      <th>2020-01-07</th>\n",
       "      <td>87.959999</td>\n",
       "      <td>88.029999</td>\n",
       "      <td>87.129997</td>\n",
       "      <td>87.860001</td>\n",
       "      <td>84.257439</td>\n",
       "      <td>6514700</td>\n",
       "    </tr>\n",
       "    <tr>\n",
       "      <th>2020-01-08</th>\n",
       "      <td>87.940002</td>\n",
       "      <td>89.349998</td>\n",
       "      <td>87.779999</td>\n",
       "      <td>88.879997</td>\n",
       "      <td>85.235626</td>\n",
       "      <td>7296300</td>\n",
       "    </tr>\n",
       "    <tr>\n",
       "      <th>...</th>\n",
       "      <td>...</td>\n",
       "      <td>...</td>\n",
       "      <td>...</td>\n",
       "      <td>...</td>\n",
       "      <td>...</td>\n",
       "      <td>...</td>\n",
       "    </tr>\n",
       "    <tr>\n",
       "      <th>2021-12-23</th>\n",
       "      <td>112.230003</td>\n",
       "      <td>112.910004</td>\n",
       "      <td>111.989998</td>\n",
       "      <td>112.370003</td>\n",
       "      <td>111.803123</td>\n",
       "      <td>3359600</td>\n",
       "    </tr>\n",
       "    <tr>\n",
       "      <th>2021-12-27</th>\n",
       "      <td>112.599998</td>\n",
       "      <td>114.370003</td>\n",
       "      <td>112.389999</td>\n",
       "      <td>114.220001</td>\n",
       "      <td>113.643791</td>\n",
       "      <td>3716700</td>\n",
       "    </tr>\n",
       "    <tr>\n",
       "      <th>2021-12-28</th>\n",
       "      <td>114.000000</td>\n",
       "      <td>116.279999</td>\n",
       "      <td>113.809998</td>\n",
       "      <td>115.570000</td>\n",
       "      <td>114.986977</td>\n",
       "      <td>4561600</td>\n",
       "    </tr>\n",
       "    <tr>\n",
       "      <th>2021-12-29</th>\n",
       "      <td>115.400002</td>\n",
       "      <td>116.959999</td>\n",
       "      <td>115.309998</td>\n",
       "      <td>116.379997</td>\n",
       "      <td>115.792885</td>\n",
       "      <td>4215300</td>\n",
       "    </tr>\n",
       "    <tr>\n",
       "      <th>2021-12-30</th>\n",
       "      <td>116.379997</td>\n",
       "      <td>117.339996</td>\n",
       "      <td>116.080002</td>\n",
       "      <td>116.239998</td>\n",
       "      <td>115.653595</td>\n",
       "      <td>4068700</td>\n",
       "    </tr>\n",
       "  </tbody>\n",
       "</table>\n",
       "<p>504 rows × 6 columns</p>\n",
       "</div>"
      ],
      "text/plain": [
       "                  Open        High         Low       Close   Adj Close  \\\n",
       "Date                                                                     \n",
       "2020-01-02   88.120003   89.349998   88.050003   89.349998   85.686356   \n",
       "2020-01-03   88.660004   89.099998   88.099998   88.830002   85.187660   \n",
       "2020-01-06   88.110001   88.410004   87.470001   88.129997   84.516373   \n",
       "2020-01-07   87.959999   88.029999   87.129997   87.860001   84.257439   \n",
       "2020-01-08   87.940002   89.349998   87.779999   88.879997   85.235626   \n",
       "...                ...         ...         ...         ...         ...   \n",
       "2021-12-23  112.230003  112.910004  111.989998  112.370003  111.803123   \n",
       "2021-12-27  112.599998  114.370003  112.389999  114.220001  113.643791   \n",
       "2021-12-28  114.000000  116.279999  113.809998  115.570000  114.986977   \n",
       "2021-12-29  115.400002  116.959999  115.309998  116.379997  115.792885   \n",
       "2021-12-30  116.379997  117.339996  116.080002  116.239998  115.653595   \n",
       "\n",
       "             Volume  \n",
       "Date                 \n",
       "2020-01-02  6473800  \n",
       "2020-01-03  4874100  \n",
       "2020-01-06  5409800  \n",
       "2020-01-07  6514700  \n",
       "2020-01-08  7296300  \n",
       "...             ...  \n",
       "2021-12-23  3359600  \n",
       "2021-12-27  3716700  \n",
       "2021-12-28  4561600  \n",
       "2021-12-29  4215300  \n",
       "2021-12-30  4068700  \n",
       "\n",
       "[504 rows x 6 columns]"
      ]
     },
     "execution_count": 21,
     "metadata": {},
     "output_type": "execute_result"
    }
   ],
   "source": [
    "df = pd.read_csv('SBUX.csv', index_col = 'Date', parse_dates = True)\n",
    "df"
   ]
  },
  {
   "cell_type": "code",
   "execution_count": 23,
   "metadata": {},
   "outputs": [
    {
     "data": {
      "text/html": [
       "<div>\n",
       "<style scoped>\n",
       "    .dataframe tbody tr th:only-of-type {\n",
       "        vertical-align: middle;\n",
       "    }\n",
       "\n",
       "    .dataframe tbody tr th {\n",
       "        vertical-align: top;\n",
       "    }\n",
       "\n",
       "    .dataframe thead th {\n",
       "        text-align: right;\n",
       "    }\n",
       "</style>\n",
       "<table border=\"1\" class=\"dataframe\">\n",
       "  <thead>\n",
       "    <tr style=\"text-align: right;\">\n",
       "      <th></th>\n",
       "      <th>Open</th>\n",
       "      <th>High</th>\n",
       "      <th>Low</th>\n",
       "      <th>Close</th>\n",
       "      <th>Adj Close</th>\n",
       "      <th>Volume</th>\n",
       "    </tr>\n",
       "    <tr>\n",
       "      <th>Date</th>\n",
       "      <th></th>\n",
       "      <th></th>\n",
       "      <th></th>\n",
       "      <th></th>\n",
       "      <th></th>\n",
       "      <th></th>\n",
       "    </tr>\n",
       "  </thead>\n",
       "  <tbody>\n",
       "    <tr>\n",
       "      <th>2020-03-31</th>\n",
       "      <td>80.821774</td>\n",
       "      <td>82.239355</td>\n",
       "      <td>79.315968</td>\n",
       "      <td>80.879032</td>\n",
       "      <td>77.775453</td>\n",
       "      <td>1.262835e+07</td>\n",
       "    </tr>\n",
       "    <tr>\n",
       "      <th>2020-06-30</th>\n",
       "      <td>75.292699</td>\n",
       "      <td>76.254444</td>\n",
       "      <td>73.893175</td>\n",
       "      <td>75.151429</td>\n",
       "      <td>72.657837</td>\n",
       "      <td>1.179281e+07</td>\n",
       "    </tr>\n",
       "    <tr>\n",
       "      <th>2020-09-30</th>\n",
       "      <td>79.691562</td>\n",
       "      <td>80.504375</td>\n",
       "      <td>78.877031</td>\n",
       "      <td>79.763906</td>\n",
       "      <td>77.550045</td>\n",
       "      <td>7.854530e+06</td>\n",
       "    </tr>\n",
       "    <tr>\n",
       "      <th>2020-12-31</th>\n",
       "      <td>95.349688</td>\n",
       "      <td>96.242187</td>\n",
       "      <td>94.604375</td>\n",
       "      <td>95.479063</td>\n",
       "      <td>93.273665</td>\n",
       "      <td>6.390914e+06</td>\n",
       "    </tr>\n",
       "    <tr>\n",
       "      <th>2021-03-31</th>\n",
       "      <td>104.996230</td>\n",
       "      <td>106.232295</td>\n",
       "      <td>103.797868</td>\n",
       "      <td>104.996394</td>\n",
       "      <td>102.993732</td>\n",
       "      <td>6.598648e+06</td>\n",
       "    </tr>\n",
       "    <tr>\n",
       "      <th>2021-06-30</th>\n",
       "      <td>113.043016</td>\n",
       "      <td>113.768889</td>\n",
       "      <td>112.229365</td>\n",
       "      <td>113.049364</td>\n",
       "      <td>111.363855</td>\n",
       "      <td>5.511810e+06</td>\n",
       "    </tr>\n",
       "    <tr>\n",
       "      <th>2021-09-30</th>\n",
       "      <td>117.060156</td>\n",
       "      <td>117.898906</td>\n",
       "      <td>116.158907</td>\n",
       "      <td>117.083594</td>\n",
       "      <td>115.792942</td>\n",
       "      <td>5.537995e+06</td>\n",
       "    </tr>\n",
       "    <tr>\n",
       "      <th>2021-12-31</th>\n",
       "      <td>112.522857</td>\n",
       "      <td>113.657302</td>\n",
       "      <td>111.589048</td>\n",
       "      <td>112.679683</td>\n",
       "      <td>111.897614</td>\n",
       "      <td>6.797289e+06</td>\n",
       "    </tr>\n",
       "  </tbody>\n",
       "</table>\n",
       "</div>"
      ],
      "text/plain": [
       "                  Open        High         Low       Close   Adj Close  \\\n",
       "Date                                                                     \n",
       "2020-03-31   80.821774   82.239355   79.315968   80.879032   77.775453   \n",
       "2020-06-30   75.292699   76.254444   73.893175   75.151429   72.657837   \n",
       "2020-09-30   79.691562   80.504375   78.877031   79.763906   77.550045   \n",
       "2020-12-31   95.349688   96.242187   94.604375   95.479063   93.273665   \n",
       "2021-03-31  104.996230  106.232295  103.797868  104.996394  102.993732   \n",
       "2021-06-30  113.043016  113.768889  112.229365  113.049364  111.363855   \n",
       "2021-09-30  117.060156  117.898906  116.158907  117.083594  115.792942   \n",
       "2021-12-31  112.522857  113.657302  111.589048  112.679683  111.897614   \n",
       "\n",
       "                  Volume  \n",
       "Date                      \n",
       "2020-03-31  1.262835e+07  \n",
       "2020-06-30  1.179281e+07  \n",
       "2020-09-30  7.854530e+06  \n",
       "2020-12-31  6.390914e+06  \n",
       "2021-03-31  6.598648e+06  \n",
       "2021-06-30  5.511810e+06  \n",
       "2021-09-30  5.537995e+06  \n",
       "2021-12-31  6.797289e+06  "
      ]
     },
     "execution_count": 23,
     "metadata": {},
     "output_type": "execute_result"
    }
   ],
   "source": [
    "df.resample(rule = 'BQ').mean()"
   ]
  },
  {
   "cell_type": "code",
   "execution_count": 24,
   "metadata": {},
   "outputs": [
    {
     "data": {
      "text/plain": [
       "<AxesSubplot:xlabel='Date'>"
      ]
     },
     "execution_count": 24,
     "metadata": {},
     "output_type": "execute_result"
    },
    {
     "data": {
      "image/png": "[encoded data removed]",
      "text/plain": [
       "<Figure size 432x288 with 1 Axes>"
      ]
     },
     "metadata": {
      "needs_background": "light"
     },
     "output_type": "display_data"
    }
   ],
   "source": [
    "df['Close'].resample(rule = 'BQ').mean().plot.bar('SBUX closing price')"
   ]
  },
  {
   "cell_type": "code",
   "execution_count": 26,
   "metadata": {},
   "outputs": [
    {
     "data": {
      "text/plain": [
       "<AxesSubplot:xlabel='Date'>"
      ]
     },
     "execution_count": 26,
     "metadata": {},
     "output_type": "execute_result"
    },
    {
     "data": {
      "image/png": "[encoded data removed]",
      "text/plain": [
       "<Figure size 864x432 with 1 Axes>"
      ]
     },
     "metadata": {
      "needs_background": "light"
     },
     "output_type": "display_data"
    }
   ],
   "source": [
    "df['Close'].resample(rule = 'M').max().plot.bar('SBUX max closing price', figsize = (12, 6))"
   ]
  },
  {
   "cell_type": "code",
   "execution_count": 27,
   "metadata": {},
   "outputs": [
    {
     "data": {
      "text/html": [
       "<div>\n",
       "<style scoped>\n",
       "    .dataframe tbody tr th:only-of-type {\n",
       "        vertical-align: middle;\n",
       "    }\n",
       "\n",
       "    .dataframe tbody tr th {\n",
       "        vertical-align: top;\n",
       "    }\n",
       "\n",
       "    .dataframe thead th {\n",
       "        text-align: right;\n",
       "    }\n",
       "</style>\n",
       "<table border=\"1\" class=\"dataframe\">\n",
       "  <thead>\n",
       "    <tr style=\"text-align: right;\">\n",
       "      <th></th>\n",
       "      <th>Open</th>\n",
       "      <th>High</th>\n",
       "      <th>Low</th>\n",
       "      <th>Close</th>\n",
       "      <th>Adj Close</th>\n",
       "      <th>Volume</th>\n",
       "    </tr>\n",
       "    <tr>\n",
       "      <th>Date</th>\n",
       "      <th></th>\n",
       "      <th></th>\n",
       "      <th></th>\n",
       "      <th></th>\n",
       "      <th></th>\n",
       "      <th></th>\n",
       "    </tr>\n",
       "  </thead>\n",
       "  <tbody>\n",
       "    <tr>\n",
       "      <th>2020-01-02</th>\n",
       "      <td>88.120003</td>\n",
       "      <td>89.349998</td>\n",
       "      <td>88.050003</td>\n",
       "      <td>89.349998</td>\n",
       "      <td>85.686356</td>\n",
       "      <td>6473800</td>\n",
       "    </tr>\n",
       "    <tr>\n",
       "      <th>2020-01-03</th>\n",
       "      <td>88.660004</td>\n",
       "      <td>89.099998</td>\n",
       "      <td>88.099998</td>\n",
       "      <td>88.830002</td>\n",
       "      <td>85.187660</td>\n",
       "      <td>4874100</td>\n",
       "    </tr>\n",
       "    <tr>\n",
       "      <th>2020-01-06</th>\n",
       "      <td>88.110001</td>\n",
       "      <td>88.410004</td>\n",
       "      <td>87.470001</td>\n",
       "      <td>88.129997</td>\n",
       "      <td>84.516373</td>\n",
       "      <td>5409800</td>\n",
       "    </tr>\n",
       "    <tr>\n",
       "      <th>2020-01-07</th>\n",
       "      <td>87.959999</td>\n",
       "      <td>88.029999</td>\n",
       "      <td>87.129997</td>\n",
       "      <td>87.860001</td>\n",
       "      <td>84.257439</td>\n",
       "      <td>6514700</td>\n",
       "    </tr>\n",
       "    <tr>\n",
       "      <th>2020-01-08</th>\n",
       "      <td>87.940002</td>\n",
       "      <td>89.349998</td>\n",
       "      <td>87.779999</td>\n",
       "      <td>88.879997</td>\n",
       "      <td>85.235626</td>\n",
       "      <td>7296300</td>\n",
       "    </tr>\n",
       "  </tbody>\n",
       "</table>\n",
       "</div>"
      ],
      "text/plain": [
       "                 Open       High        Low      Close  Adj Close   Volume\n",
       "Date                                                                      \n",
       "2020-01-02  88.120003  89.349998  88.050003  89.349998  85.686356  6473800\n",
       "2020-01-03  88.660004  89.099998  88.099998  88.830002  85.187660  4874100\n",
       "2020-01-06  88.110001  88.410004  87.470001  88.129997  84.516373  5409800\n",
       "2020-01-07  87.959999  88.029999  87.129997  87.860001  84.257439  6514700\n",
       "2020-01-08  87.940002  89.349998  87.779999  88.879997  85.235626  7296300"
      ]
     },
     "execution_count": 27,
     "metadata": {},
     "output_type": "execute_result"
    }
   ],
   "source": [
    "df.head(5)"
   ]
  },
  {
   "cell_type": "code",
   "execution_count": 28,
   "metadata": {},
   "outputs": [
    {
     "data": {
      "text/html": [
       "<div>\n",
       "<style scoped>\n",
       "    .dataframe tbody tr th:only-of-type {\n",
       "        vertical-align: middle;\n",
       "    }\n",
       "\n",
       "    .dataframe tbody tr th {\n",
       "        vertical-align: top;\n",
       "    }\n",
       "\n",
       "    .dataframe thead th {\n",
       "        text-align: right;\n",
       "    }\n",
       "</style>\n",
       "<table border=\"1\" class=\"dataframe\">\n",
       "  <thead>\n",
       "    <tr style=\"text-align: right;\">\n",
       "      <th></th>\n",
       "      <th>Open</th>\n",
       "      <th>High</th>\n",
       "      <th>Low</th>\n",
       "      <th>Close</th>\n",
       "      <th>Adj Close</th>\n",
       "      <th>Volume</th>\n",
       "    </tr>\n",
       "    <tr>\n",
       "      <th>Date</th>\n",
       "      <th></th>\n",
       "      <th></th>\n",
       "      <th></th>\n",
       "      <th></th>\n",
       "      <th></th>\n",
       "      <th></th>\n",
       "    </tr>\n",
       "  </thead>\n",
       "  <tbody>\n",
       "    <tr>\n",
       "      <th>2021-12-23</th>\n",
       "      <td>112.230003</td>\n",
       "      <td>112.910004</td>\n",
       "      <td>111.989998</td>\n",
       "      <td>112.370003</td>\n",
       "      <td>111.803123</td>\n",
       "      <td>3359600</td>\n",
       "    </tr>\n",
       "    <tr>\n",
       "      <th>2021-12-27</th>\n",
       "      <td>112.599998</td>\n",
       "      <td>114.370003</td>\n",
       "      <td>112.389999</td>\n",
       "      <td>114.220001</td>\n",
       "      <td>113.643791</td>\n",
       "      <td>3716700</td>\n",
       "    </tr>\n",
       "    <tr>\n",
       "      <th>2021-12-28</th>\n",
       "      <td>114.000000</td>\n",
       "      <td>116.279999</td>\n",
       "      <td>113.809998</td>\n",
       "      <td>115.570000</td>\n",
       "      <td>114.986977</td>\n",
       "      <td>4561600</td>\n",
       "    </tr>\n",
       "    <tr>\n",
       "      <th>2021-12-29</th>\n",
       "      <td>115.400002</td>\n",
       "      <td>116.959999</td>\n",
       "      <td>115.309998</td>\n",
       "      <td>116.379997</td>\n",
       "      <td>115.792885</td>\n",
       "      <td>4215300</td>\n",
       "    </tr>\n",
       "    <tr>\n",
       "      <th>2021-12-30</th>\n",
       "      <td>116.379997</td>\n",
       "      <td>117.339996</td>\n",
       "      <td>116.080002</td>\n",
       "      <td>116.239998</td>\n",
       "      <td>115.653595</td>\n",
       "      <td>4068700</td>\n",
       "    </tr>\n",
       "  </tbody>\n",
       "</table>\n",
       "</div>"
      ],
      "text/plain": [
       "                  Open        High         Low       Close   Adj Close  \\\n",
       "Date                                                                     \n",
       "2021-12-23  112.230003  112.910004  111.989998  112.370003  111.803123   \n",
       "2021-12-27  112.599998  114.370003  112.389999  114.220001  113.643791   \n",
       "2021-12-28  114.000000  116.279999  113.809998  115.570000  114.986977   \n",
       "2021-12-29  115.400002  116.959999  115.309998  116.379997  115.792885   \n",
       "2021-12-30  116.379997  117.339996  116.080002  116.239998  115.653595   \n",
       "\n",
       "             Volume  \n",
       "Date                 \n",
       "2021-12-23  3359600  \n",
       "2021-12-27  3716700  \n",
       "2021-12-28  4561600  \n",
       "2021-12-29  4215300  \n",
       "2021-12-30  4068700  "
      ]
     },
     "execution_count": 28,
     "metadata": {},
     "output_type": "execute_result"
    }
   ],
   "source": [
    "df.tail(5)"
   ]
  },
  {
   "cell_type": "markdown",
   "metadata": {},
   "source": [
    "# Time shifting"
   ]
  },
  {
   "cell_type": "markdown",
   "metadata": {},
   "source": [
    "### Shift forward example"
   ]
  },
  {
   "cell_type": "code",
   "execution_count": 30,
   "metadata": {},
   "outputs": [
    {
     "data": {
      "text/html": [
       "<div>\n",
       "<style scoped>\n",
       "    .dataframe tbody tr th:only-of-type {\n",
       "        vertical-align: middle;\n",
       "    }\n",
       "\n",
       "    .dataframe tbody tr th {\n",
       "        vertical-align: top;\n",
       "    }\n",
       "\n",
       "    .dataframe thead th {\n",
       "        text-align: right;\n",
       "    }\n",
       "</style>\n",
       "<table border=\"1\" class=\"dataframe\">\n",
       "  <thead>\n",
       "    <tr style=\"text-align: right;\">\n",
       "      <th></th>\n",
       "      <th>Open</th>\n",
       "      <th>High</th>\n",
       "      <th>Low</th>\n",
       "      <th>Close</th>\n",
       "      <th>Adj Close</th>\n",
       "      <th>Volume</th>\n",
       "    </tr>\n",
       "    <tr>\n",
       "      <th>Date</th>\n",
       "      <th></th>\n",
       "      <th></th>\n",
       "      <th></th>\n",
       "      <th></th>\n",
       "      <th></th>\n",
       "      <th></th>\n",
       "    </tr>\n",
       "  </thead>\n",
       "  <tbody>\n",
       "    <tr>\n",
       "      <th>2020-01-02</th>\n",
       "      <td>NaN</td>\n",
       "      <td>NaN</td>\n",
       "      <td>NaN</td>\n",
       "      <td>NaN</td>\n",
       "      <td>NaN</td>\n",
       "      <td>NaN</td>\n",
       "    </tr>\n",
       "    <tr>\n",
       "      <th>2020-01-03</th>\n",
       "      <td>88.120003</td>\n",
       "      <td>89.349998</td>\n",
       "      <td>88.050003</td>\n",
       "      <td>89.349998</td>\n",
       "      <td>85.686356</td>\n",
       "      <td>6473800.0</td>\n",
       "    </tr>\n",
       "    <tr>\n",
       "      <th>2020-01-06</th>\n",
       "      <td>88.660004</td>\n",
       "      <td>89.099998</td>\n",
       "      <td>88.099998</td>\n",
       "      <td>88.830002</td>\n",
       "      <td>85.187660</td>\n",
       "      <td>4874100.0</td>\n",
       "    </tr>\n",
       "    <tr>\n",
       "      <th>2020-01-07</th>\n",
       "      <td>88.110001</td>\n",
       "      <td>88.410004</td>\n",
       "      <td>87.470001</td>\n",
       "      <td>88.129997</td>\n",
       "      <td>84.516373</td>\n",
       "      <td>5409800.0</td>\n",
       "    </tr>\n",
       "    <tr>\n",
       "      <th>2020-01-08</th>\n",
       "      <td>87.959999</td>\n",
       "      <td>88.029999</td>\n",
       "      <td>87.129997</td>\n",
       "      <td>87.860001</td>\n",
       "      <td>84.257439</td>\n",
       "      <td>6514700.0</td>\n",
       "    </tr>\n",
       "  </tbody>\n",
       "</table>\n",
       "</div>"
      ],
      "text/plain": [
       "                 Open       High        Low      Close  Adj Close     Volume\n",
       "Date                                                                        \n",
       "2020-01-02        NaN        NaN        NaN        NaN        NaN        NaN\n",
       "2020-01-03  88.120003  89.349998  88.050003  89.349998  85.686356  6473800.0\n",
       "2020-01-06  88.660004  89.099998  88.099998  88.830002  85.187660  4874100.0\n",
       "2020-01-07  88.110001  88.410004  87.470001  88.129997  84.516373  5409800.0\n",
       "2020-01-08  87.959999  88.029999  87.129997  87.860001  84.257439  6514700.0"
      ]
     },
     "execution_count": 30,
     "metadata": {},
     "output_type": "execute_result"
    }
   ],
   "source": [
    "df.shift(1).head(5)"
   ]
  },
  {
   "cell_type": "code",
   "execution_count": 32,
   "metadata": {},
   "outputs": [
    {
     "data": {
      "text/html": [
       "<div>\n",
       "<style scoped>\n",
       "    .dataframe tbody tr th:only-of-type {\n",
       "        vertical-align: middle;\n",
       "    }\n",
       "\n",
       "    .dataframe tbody tr th {\n",
       "        vertical-align: top;\n",
       "    }\n",
       "\n",
       "    .dataframe thead th {\n",
       "        text-align: right;\n",
       "    }\n",
       "</style>\n",
       "<table border=\"1\" class=\"dataframe\">\n",
       "  <thead>\n",
       "    <tr style=\"text-align: right;\">\n",
       "      <th></th>\n",
       "      <th>Open</th>\n",
       "      <th>High</th>\n",
       "      <th>Low</th>\n",
       "      <th>Close</th>\n",
       "      <th>Adj Close</th>\n",
       "      <th>Volume</th>\n",
       "    </tr>\n",
       "    <tr>\n",
       "      <th>Date</th>\n",
       "      <th></th>\n",
       "      <th></th>\n",
       "      <th></th>\n",
       "      <th></th>\n",
       "      <th></th>\n",
       "      <th></th>\n",
       "    </tr>\n",
       "  </thead>\n",
       "  <tbody>\n",
       "    <tr>\n",
       "      <th>2021-12-23</th>\n",
       "      <td>112.230003</td>\n",
       "      <td>112.910004</td>\n",
       "      <td>111.989998</td>\n",
       "      <td>112.370003</td>\n",
       "      <td>111.803123</td>\n",
       "      <td>3359600</td>\n",
       "    </tr>\n",
       "    <tr>\n",
       "      <th>2021-12-27</th>\n",
       "      <td>112.599998</td>\n",
       "      <td>114.370003</td>\n",
       "      <td>112.389999</td>\n",
       "      <td>114.220001</td>\n",
       "      <td>113.643791</td>\n",
       "      <td>3716700</td>\n",
       "    </tr>\n",
       "    <tr>\n",
       "      <th>2021-12-28</th>\n",
       "      <td>114.000000</td>\n",
       "      <td>116.279999</td>\n",
       "      <td>113.809998</td>\n",
       "      <td>115.570000</td>\n",
       "      <td>114.986977</td>\n",
       "      <td>4561600</td>\n",
       "    </tr>\n",
       "    <tr>\n",
       "      <th>2021-12-29</th>\n",
       "      <td>115.400002</td>\n",
       "      <td>116.959999</td>\n",
       "      <td>115.309998</td>\n",
       "      <td>116.379997</td>\n",
       "      <td>115.792885</td>\n",
       "      <td>4215300</td>\n",
       "    </tr>\n",
       "    <tr>\n",
       "      <th>2021-12-30</th>\n",
       "      <td>116.379997</td>\n",
       "      <td>117.339996</td>\n",
       "      <td>116.080002</td>\n",
       "      <td>116.239998</td>\n",
       "      <td>115.653595</td>\n",
       "      <td>4068700</td>\n",
       "    </tr>\n",
       "  </tbody>\n",
       "</table>\n",
       "</div>"
      ],
      "text/plain": [
       "                  Open        High         Low       Close   Adj Close  \\\n",
       "Date                                                                     \n",
       "2021-12-23  112.230003  112.910004  111.989998  112.370003  111.803123   \n",
       "2021-12-27  112.599998  114.370003  112.389999  114.220001  113.643791   \n",
       "2021-12-28  114.000000  116.279999  113.809998  115.570000  114.986977   \n",
       "2021-12-29  115.400002  116.959999  115.309998  116.379997  115.792885   \n",
       "2021-12-30  116.379997  117.339996  116.080002  116.239998  115.653595   \n",
       "\n",
       "             Volume  \n",
       "Date                 \n",
       "2021-12-23  3359600  \n",
       "2021-12-27  3716700  \n",
       "2021-12-28  4561600  \n",
       "2021-12-29  4215300  \n",
       "2021-12-30  4068700  "
      ]
     },
     "execution_count": 32,
     "metadata": {},
     "output_type": "execute_result"
    }
   ],
   "source": [
    "df.tail(5)"
   ]
  },
  {
   "cell_type": "code",
   "execution_count": 33,
   "metadata": {},
   "outputs": [
    {
     "data": {
      "text/html": [
       "<div>\n",
       "<style scoped>\n",
       "    .dataframe tbody tr th:only-of-type {\n",
       "        vertical-align: middle;\n",
       "    }\n",
       "\n",
       "    .dataframe tbody tr th {\n",
       "        vertical-align: top;\n",
       "    }\n",
       "\n",
       "    .dataframe thead th {\n",
       "        text-align: right;\n",
       "    }\n",
       "</style>\n",
       "<table border=\"1\" class=\"dataframe\">\n",
       "  <thead>\n",
       "    <tr style=\"text-align: right;\">\n",
       "      <th></th>\n",
       "      <th>Open</th>\n",
       "      <th>High</th>\n",
       "      <th>Low</th>\n",
       "      <th>Close</th>\n",
       "      <th>Adj Close</th>\n",
       "      <th>Volume</th>\n",
       "    </tr>\n",
       "    <tr>\n",
       "      <th>Date</th>\n",
       "      <th></th>\n",
       "      <th></th>\n",
       "      <th></th>\n",
       "      <th></th>\n",
       "      <th></th>\n",
       "      <th></th>\n",
       "    </tr>\n",
       "  </thead>\n",
       "  <tbody>\n",
       "    <tr>\n",
       "      <th>2021-12-23</th>\n",
       "      <td>110.199997</td>\n",
       "      <td>111.779999</td>\n",
       "      <td>110.000000</td>\n",
       "      <td>111.739998</td>\n",
       "      <td>111.176300</td>\n",
       "      <td>3643300.0</td>\n",
       "    </tr>\n",
       "    <tr>\n",
       "      <th>2021-12-27</th>\n",
       "      <td>112.230003</td>\n",
       "      <td>112.910004</td>\n",
       "      <td>111.989998</td>\n",
       "      <td>112.370003</td>\n",
       "      <td>111.803123</td>\n",
       "      <td>3359600.0</td>\n",
       "    </tr>\n",
       "    <tr>\n",
       "      <th>2021-12-28</th>\n",
       "      <td>112.599998</td>\n",
       "      <td>114.370003</td>\n",
       "      <td>112.389999</td>\n",
       "      <td>114.220001</td>\n",
       "      <td>113.643791</td>\n",
       "      <td>3716700.0</td>\n",
       "    </tr>\n",
       "    <tr>\n",
       "      <th>2021-12-29</th>\n",
       "      <td>114.000000</td>\n",
       "      <td>116.279999</td>\n",
       "      <td>113.809998</td>\n",
       "      <td>115.570000</td>\n",
       "      <td>114.986977</td>\n",
       "      <td>4561600.0</td>\n",
       "    </tr>\n",
       "    <tr>\n",
       "      <th>2021-12-30</th>\n",
       "      <td>115.400002</td>\n",
       "      <td>116.959999</td>\n",
       "      <td>115.309998</td>\n",
       "      <td>116.379997</td>\n",
       "      <td>115.792885</td>\n",
       "      <td>4215300.0</td>\n",
       "    </tr>\n",
       "  </tbody>\n",
       "</table>\n",
       "</div>"
      ],
      "text/plain": [
       "                  Open        High         Low       Close   Adj Close  \\\n",
       "Date                                                                     \n",
       "2021-12-23  110.199997  111.779999  110.000000  111.739998  111.176300   \n",
       "2021-12-27  112.230003  112.910004  111.989998  112.370003  111.803123   \n",
       "2021-12-28  112.599998  114.370003  112.389999  114.220001  113.643791   \n",
       "2021-12-29  114.000000  116.279999  113.809998  115.570000  114.986977   \n",
       "2021-12-30  115.400002  116.959999  115.309998  116.379997  115.792885   \n",
       "\n",
       "               Volume  \n",
       "Date                   \n",
       "2021-12-23  3643300.0  \n",
       "2021-12-27  3359600.0  \n",
       "2021-12-28  3716700.0  \n",
       "2021-12-29  4561600.0  \n",
       "2021-12-30  4215300.0  "
      ]
     },
     "execution_count": 33,
     "metadata": {},
     "output_type": "execute_result"
    }
   ],
   "source": [
    "df.shift(1).tail(5)"
   ]
  },
  {
   "cell_type": "markdown",
   "metadata": {},
   "source": [
    "### Shift backwards example"
   ]
  },
  {
   "cell_type": "code",
   "execution_count": 36,
   "metadata": {},
   "outputs": [
    {
     "data": {
      "text/html": [
       "<div>\n",
       "<style scoped>\n",
       "    .dataframe tbody tr th:only-of-type {\n",
       "        vertical-align: middle;\n",
       "    }\n",
       "\n",
       "    .dataframe tbody tr th {\n",
       "        vertical-align: top;\n",
       "    }\n",
       "\n",
       "    .dataframe thead th {\n",
       "        text-align: right;\n",
       "    }\n",
       "</style>\n",
       "<table border=\"1\" class=\"dataframe\">\n",
       "  <thead>\n",
       "    <tr style=\"text-align: right;\">\n",
       "      <th></th>\n",
       "      <th>Open</th>\n",
       "      <th>High</th>\n",
       "      <th>Low</th>\n",
       "      <th>Close</th>\n",
       "      <th>Adj Close</th>\n",
       "      <th>Volume</th>\n",
       "    </tr>\n",
       "    <tr>\n",
       "      <th>Date</th>\n",
       "      <th></th>\n",
       "      <th></th>\n",
       "      <th></th>\n",
       "      <th></th>\n",
       "      <th></th>\n",
       "      <th></th>\n",
       "    </tr>\n",
       "  </thead>\n",
       "  <tbody>\n",
       "    <tr>\n",
       "      <th>2021-12-23</th>\n",
       "      <td>112.599998</td>\n",
       "      <td>114.370003</td>\n",
       "      <td>112.389999</td>\n",
       "      <td>114.220001</td>\n",
       "      <td>113.643791</td>\n",
       "      <td>3716700.0</td>\n",
       "    </tr>\n",
       "    <tr>\n",
       "      <th>2021-12-27</th>\n",
       "      <td>114.000000</td>\n",
       "      <td>116.279999</td>\n",
       "      <td>113.809998</td>\n",
       "      <td>115.570000</td>\n",
       "      <td>114.986977</td>\n",
       "      <td>4561600.0</td>\n",
       "    </tr>\n",
       "    <tr>\n",
       "      <th>2021-12-28</th>\n",
       "      <td>115.400002</td>\n",
       "      <td>116.959999</td>\n",
       "      <td>115.309998</td>\n",
       "      <td>116.379997</td>\n",
       "      <td>115.792885</td>\n",
       "      <td>4215300.0</td>\n",
       "    </tr>\n",
       "    <tr>\n",
       "      <th>2021-12-29</th>\n",
       "      <td>116.379997</td>\n",
       "      <td>117.339996</td>\n",
       "      <td>116.080002</td>\n",
       "      <td>116.239998</td>\n",
       "      <td>115.653595</td>\n",
       "      <td>4068700.0</td>\n",
       "    </tr>\n",
       "    <tr>\n",
       "      <th>2021-12-30</th>\n",
       "      <td>NaN</td>\n",
       "      <td>NaN</td>\n",
       "      <td>NaN</td>\n",
       "      <td>NaN</td>\n",
       "      <td>NaN</td>\n",
       "      <td>NaN</td>\n",
       "    </tr>\n",
       "  </tbody>\n",
       "</table>\n",
       "</div>"
      ],
      "text/plain": [
       "                  Open        High         Low       Close   Adj Close  \\\n",
       "Date                                                                     \n",
       "2021-12-23  112.599998  114.370003  112.389999  114.220001  113.643791   \n",
       "2021-12-27  114.000000  116.279999  113.809998  115.570000  114.986977   \n",
       "2021-12-28  115.400002  116.959999  115.309998  116.379997  115.792885   \n",
       "2021-12-29  116.379997  117.339996  116.080002  116.239998  115.653595   \n",
       "2021-12-30         NaN         NaN         NaN         NaN         NaN   \n",
       "\n",
       "               Volume  \n",
       "Date                   \n",
       "2021-12-23  3716700.0  \n",
       "2021-12-27  4561600.0  \n",
       "2021-12-28  4215300.0  \n",
       "2021-12-29  4068700.0  \n",
       "2021-12-30        NaN  "
      ]
     },
     "execution_count": 36,
     "metadata": {},
     "output_type": "execute_result"
    }
   ],
   "source": [
    "df.shift(-1).tail(5)"
   ]
  },
  {
   "cell_type": "code",
   "execution_count": 37,
   "metadata": {},
   "outputs": [
    {
     "data": {
      "text/html": [
       "<div>\n",
       "<style scoped>\n",
       "    .dataframe tbody tr th:only-of-type {\n",
       "        vertical-align: middle;\n",
       "    }\n",
       "\n",
       "    .dataframe tbody tr th {\n",
       "        vertical-align: top;\n",
       "    }\n",
       "\n",
       "    .dataframe thead th {\n",
       "        text-align: right;\n",
       "    }\n",
       "</style>\n",
       "<table border=\"1\" class=\"dataframe\">\n",
       "  <thead>\n",
       "    <tr style=\"text-align: right;\">\n",
       "      <th></th>\n",
       "      <th>Open</th>\n",
       "      <th>High</th>\n",
       "      <th>Low</th>\n",
       "      <th>Close</th>\n",
       "      <th>Adj Close</th>\n",
       "      <th>Volume</th>\n",
       "    </tr>\n",
       "    <tr>\n",
       "      <th>Date</th>\n",
       "      <th></th>\n",
       "      <th></th>\n",
       "      <th></th>\n",
       "      <th></th>\n",
       "      <th></th>\n",
       "      <th></th>\n",
       "    </tr>\n",
       "  </thead>\n",
       "  <tbody>\n",
       "    <tr>\n",
       "      <th>2021-12-22</th>\n",
       "      <td>112.230003</td>\n",
       "      <td>112.910004</td>\n",
       "      <td>111.989998</td>\n",
       "      <td>112.370003</td>\n",
       "      <td>111.803123</td>\n",
       "      <td>3359600.0</td>\n",
       "    </tr>\n",
       "    <tr>\n",
       "      <th>2021-12-23</th>\n",
       "      <td>112.599998</td>\n",
       "      <td>114.370003</td>\n",
       "      <td>112.389999</td>\n",
       "      <td>114.220001</td>\n",
       "      <td>113.643791</td>\n",
       "      <td>3716700.0</td>\n",
       "    </tr>\n",
       "    <tr>\n",
       "      <th>2021-12-27</th>\n",
       "      <td>114.000000</td>\n",
       "      <td>116.279999</td>\n",
       "      <td>113.809998</td>\n",
       "      <td>115.570000</td>\n",
       "      <td>114.986977</td>\n",
       "      <td>4561600.0</td>\n",
       "    </tr>\n",
       "    <tr>\n",
       "      <th>2021-12-28</th>\n",
       "      <td>115.400002</td>\n",
       "      <td>116.959999</td>\n",
       "      <td>115.309998</td>\n",
       "      <td>116.379997</td>\n",
       "      <td>115.792885</td>\n",
       "      <td>4215300.0</td>\n",
       "    </tr>\n",
       "    <tr>\n",
       "      <th>2021-12-29</th>\n",
       "      <td>116.379997</td>\n",
       "      <td>117.339996</td>\n",
       "      <td>116.080002</td>\n",
       "      <td>116.239998</td>\n",
       "      <td>115.653595</td>\n",
       "      <td>4068700.0</td>\n",
       "    </tr>\n",
       "  </tbody>\n",
       "</table>\n",
       "</div>"
      ],
      "text/plain": [
       "                  Open        High         Low       Close   Adj Close  \\\n",
       "Date                                                                     \n",
       "2021-12-22  112.230003  112.910004  111.989998  112.370003  111.803123   \n",
       "2021-12-23  112.599998  114.370003  112.389999  114.220001  113.643791   \n",
       "2021-12-27  114.000000  116.279999  113.809998  115.570000  114.986977   \n",
       "2021-12-28  115.400002  116.959999  115.309998  116.379997  115.792885   \n",
       "2021-12-29  116.379997  117.339996  116.080002  116.239998  115.653595   \n",
       "\n",
       "               Volume  \n",
       "Date                   \n",
       "2021-12-22  3359600.0  \n",
       "2021-12-23  3716700.0  \n",
       "2021-12-27  4561600.0  \n",
       "2021-12-28  4215300.0  \n",
       "2021-12-29  4068700.0  "
      ]
     },
     "execution_count": 37,
     "metadata": {},
     "output_type": "execute_result"
    }
   ],
   "source": [
    "df.shift(-1).dropna(axis = 0).tail(5)"
   ]
  },
  {
   "cell_type": "markdown",
   "metadata": {},
   "source": [
    "# Rolling"
   ]
  },
  {
   "cell_type": "code",
   "execution_count": 38,
   "metadata": {},
   "outputs": [
    {
     "data": {
      "image/png": "[encoded data removed]",
      "text/plain": [
       "<Figure size 864x432 with 1 Axes>"
      ]
     },
     "metadata": {
      "needs_background": "light"
     },
     "output_type": "display_data"
    }
   ],
   "source": [
    "df['Close'].plot(figsize = (12, 6)).autoscale(axis = 'x', tight = True)"
   ]
  },
  {
   "cell_type": "code",
   "execution_count": 39,
   "metadata": {},
   "outputs": [
    {
     "data": {
      "text/html": [
       "<div>\n",
       "<style scoped>\n",
       "    .dataframe tbody tr th:only-of-type {\n",
       "        vertical-align: middle;\n",
       "    }\n",
       "\n",
       "    .dataframe tbody tr th {\n",
       "        vertical-align: top;\n",
       "    }\n",
       "\n",
       "    .dataframe thead th {\n",
       "        text-align: right;\n",
       "    }\n",
       "</style>\n",
       "<table border=\"1\" class=\"dataframe\">\n",
       "  <thead>\n",
       "    <tr style=\"text-align: right;\">\n",
       "      <th></th>\n",
       "      <th>Open</th>\n",
       "      <th>High</th>\n",
       "      <th>Low</th>\n",
       "      <th>Close</th>\n",
       "      <th>Adj Close</th>\n",
       "      <th>Volume</th>\n",
       "    </tr>\n",
       "    <tr>\n",
       "      <th>Date</th>\n",
       "      <th></th>\n",
       "      <th></th>\n",
       "      <th></th>\n",
       "      <th></th>\n",
       "      <th></th>\n",
       "      <th></th>\n",
       "    </tr>\n",
       "  </thead>\n",
       "  <tbody>\n",
       "    <tr>\n",
       "      <th>2020-01-02</th>\n",
       "      <td>NaN</td>\n",
       "      <td>NaN</td>\n",
       "      <td>NaN</td>\n",
       "      <td>NaN</td>\n",
       "      <td>NaN</td>\n",
       "      <td>NaN</td>\n",
       "    </tr>\n",
       "    <tr>\n",
       "      <th>2020-01-03</th>\n",
       "      <td>NaN</td>\n",
       "      <td>NaN</td>\n",
       "      <td>NaN</td>\n",
       "      <td>NaN</td>\n",
       "      <td>NaN</td>\n",
       "      <td>NaN</td>\n",
       "    </tr>\n",
       "    <tr>\n",
       "      <th>2020-01-06</th>\n",
       "      <td>NaN</td>\n",
       "      <td>NaN</td>\n",
       "      <td>NaN</td>\n",
       "      <td>NaN</td>\n",
       "      <td>NaN</td>\n",
       "      <td>NaN</td>\n",
       "    </tr>\n",
       "    <tr>\n",
       "      <th>2020-01-07</th>\n",
       "      <td>NaN</td>\n",
       "      <td>NaN</td>\n",
       "      <td>NaN</td>\n",
       "      <td>NaN</td>\n",
       "      <td>NaN</td>\n",
       "      <td>NaN</td>\n",
       "    </tr>\n",
       "    <tr>\n",
       "      <th>2020-01-08</th>\n",
       "      <td>NaN</td>\n",
       "      <td>NaN</td>\n",
       "      <td>NaN</td>\n",
       "      <td>NaN</td>\n",
       "      <td>NaN</td>\n",
       "      <td>NaN</td>\n",
       "    </tr>\n",
       "    <tr>\n",
       "      <th>2020-01-09</th>\n",
       "      <td>NaN</td>\n",
       "      <td>NaN</td>\n",
       "      <td>NaN</td>\n",
       "      <td>NaN</td>\n",
       "      <td>NaN</td>\n",
       "      <td>NaN</td>\n",
       "    </tr>\n",
       "    <tr>\n",
       "      <th>2020-01-10</th>\n",
       "      <td>88.834287</td>\n",
       "      <td>89.470000</td>\n",
       "      <td>88.318571</td>\n",
       "      <td>89.105714</td>\n",
       "      <td>85.452078</td>\n",
       "      <td>6.730014e+06</td>\n",
       "    </tr>\n",
       "    <tr>\n",
       "      <th>2020-01-13</th>\n",
       "      <td>89.191430</td>\n",
       "      <td>89.808572</td>\n",
       "      <td>88.627142</td>\n",
       "      <td>89.352857</td>\n",
       "      <td>85.689085</td>\n",
       "      <td>6.859829e+06</td>\n",
       "    </tr>\n",
       "    <tr>\n",
       "      <th>2020-01-14</th>\n",
       "      <td>89.552859</td>\n",
       "      <td>90.142858</td>\n",
       "      <td>89.021428</td>\n",
       "      <td>89.661428</td>\n",
       "      <td>85.985005</td>\n",
       "      <td>6.999986e+06</td>\n",
       "    </tr>\n",
       "    <tr>\n",
       "      <th>2020-01-15</th>\n",
       "      <td>89.965716</td>\n",
       "      <td>90.664286</td>\n",
       "      <td>89.525713</td>\n",
       "      <td>90.148572</td>\n",
       "      <td>86.452174</td>\n",
       "      <td>7.105057e+06</td>\n",
       "    </tr>\n",
       "  </tbody>\n",
       "</table>\n",
       "</div>"
      ],
      "text/plain": [
       "                 Open       High        Low      Close  Adj Close  \\\n",
       "Date                                                                \n",
       "2020-01-02        NaN        NaN        NaN        NaN        NaN   \n",
       "2020-01-03        NaN        NaN        NaN        NaN        NaN   \n",
       "2020-01-06        NaN        NaN        NaN        NaN        NaN   \n",
       "2020-01-07        NaN        NaN        NaN        NaN        NaN   \n",
       "2020-01-08        NaN        NaN        NaN        NaN        NaN   \n",
       "2020-01-09        NaN        NaN        NaN        NaN        NaN   \n",
       "2020-01-10  88.834287  89.470000  88.318571  89.105714  85.452078   \n",
       "2020-01-13  89.191430  89.808572  88.627142  89.352857  85.689085   \n",
       "2020-01-14  89.552859  90.142858  89.021428  89.661428  85.985005   \n",
       "2020-01-15  89.965716  90.664286  89.525713  90.148572  86.452174   \n",
       "\n",
       "                  Volume  \n",
       "Date                      \n",
       "2020-01-02           NaN  \n",
       "2020-01-03           NaN  \n",
       "2020-01-06           NaN  \n",
       "2020-01-07           NaN  \n",
       "2020-01-08           NaN  \n",
       "2020-01-09           NaN  \n",
       "2020-01-10  6.730014e+06  \n",
       "2020-01-13  6.859829e+06  \n",
       "2020-01-14  6.999986e+06  \n",
       "2020-01-15  7.105057e+06  "
      ]
     },
     "execution_count": 39,
     "metadata": {},
     "output_type": "execute_result"
    }
   ],
   "source": [
    "df.rolling(7).mean().head(10)"
   ]
  },
  {
   "cell_type": "code",
   "execution_count": 42,
   "metadata": {},
   "outputs": [
    {
     "data": {
      "text/plain": [
       "<AxesSubplot:xlabel='Date'>"
      ]
     },
     "execution_count": 42,
     "metadata": {},
     "output_type": "execute_result"
    },
    {
     "data": {
      "image/png": "[encoded data removed]",
      "text/plain": [
       "<Figure size 864x432 with 1 Axes>"
      ]
     },
     "metadata": {
      "needs_background": "light"
     },
     "output_type": "display_data"
    }
   ],
   "source": [
    "df['Close'].plot(figsize = (12, 6)).autoscale(axis = 'x', tight = True)\n",
    "df.rolling(7).mean()['Close'].plot()"
   ]
  },
  {
   "cell_type": "markdown",
   "metadata": {},
   "source": [
    "# Expanding"
   ]
  },
  {
   "cell_type": "code",
   "execution_count": 45,
   "metadata": {},
   "outputs": [
    {
     "data": {
      "text/plain": [
       "<AxesSubplot:xlabel='Date'>"
      ]
     },
     "execution_count": 45,
     "metadata": {},
     "output_type": "execute_result"
    },
    {
     "data": {
      "image/png": "[encoded data removed]",
      "text/plain": [
       "<Figure size 864x432 with 1 Axes>"
      ]
     },
     "metadata": {
      "needs_background": "light"
     },
     "output_type": "display_data"
    }
   ],
   "source": [
    "df['Close'].expanding(30).mean().plot(figsize = (12, 6))"
   ]
  }
 ],
 "metadata": {
  "interpreter": {
   "hash": "86c2c867e78863a60e64bea1f2d56ebc9d5225f53ae6e6c58059e4ad08fe36f1"
  },
  "kernelspec": {
   "display_name": "Python 3",
   "language": "python",
   "name": "python3"
  },
  "language_info": {
   "codemirror_mode": {
    "name": "ipython",
    "version": 3
   },
   "file_extension": ".py",
   "mimetype": "text/x-python",
   "name": "python",
   "nbconvert_exporter": "python",
   "pygments_lexer": "ipython3",
   "version": "3.8.5"
  }
 },
 "nbformat": 4,
 "nbformat_minor": 2
}
