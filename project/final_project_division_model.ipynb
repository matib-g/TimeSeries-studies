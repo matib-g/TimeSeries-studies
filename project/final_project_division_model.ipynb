{
 "cells": [
  {
   "cell_type": "code",
   "execution_count": 1,
   "id": "7c4b61d0",
   "metadata": {},
   "outputs": [],
   "source": [
    "import pandas as pd"
   ]
  },
  {
   "cell_type": "code",
   "execution_count": 314,
   "id": "2aa93620",
   "metadata": {},
   "outputs": [],
   "source": [
    "train = pd.read_parquet('training_preprocessed.parquet')\n",
    "train['dcoilwtico'] = train['dcoilwtico'].fillna(method='bfill')"
   ]
  },
  {
   "cell_type": "code",
   "execution_count": 325,
   "id": "6facb275",
   "metadata": {},
   "outputs": [],
   "source": [
    "X = train.iloc[:,[1,2,4,5,6,7,8,9,10,11,12,13]].values\n",
    "Y = train.iloc[:,3].values\n",
    "\n",
    "n_split = int(len(X)*0.8)\n",
    "\n",
    "X_train,X_test = X[0:n_split],X[n_split:]\n",
    "Y_train,Y_test = Y[0:n_split],Y[n_split:]"
   ]
  },
  {
   "cell_type": "code",
   "execution_count": 75,
   "id": "cdeea400",
   "metadata": {},
   "outputs": [],
   "source": [
    "from sklearn.ensemble import RandomForestRegressor\n"
   ]
  },
  {
   "cell_type": "code",
   "execution_count": 76,
   "id": "033dce5b",
   "metadata": {},
   "outputs": [
    {
     "name": "stdout",
     "output_type": "stream",
     "text": [
      "Train R2 0.9808237378102028\n",
      "Val R2 0.8276753234012983\n",
      "Val RMSLE 0.9182157310597648\n"
     ]
    }
   ],
   "source": [
    "rfr=RandomForestRegressor(n_estimators=20,n_jobs=4)\n",
    "rfr.fit(X_train,Y_train)\n",
    "y_pred = rfr.predict(X_test)\n",
    "print('Train R2',rfr.score(X_train,Y_train))\n",
    "print('Val R2',rfr.score(X_test,Y_test))\n",
    "print('Val RMSLE',mean_squared_log_error(Y_test,y_pred,squared=False))\n"
   ]
  },
  {
   "cell_type": "code",
   "execution_count": 29,
   "id": "7ef3d4b1",
   "metadata": {},
   "outputs": [],
   "source": [
    "from sklearn.metrics import mean_squared_log_error"
   ]
  },
  {
   "cell_type": "code",
   "execution_count": 51,
   "id": "e4f4a227",
   "metadata": {},
   "outputs": [],
   "source": [
    "from sklearn.model_selection import ParameterGrid\n",
    "from tqdm import tqdm\n",
    "import numpy as np\n",
    "grid={'n_estimators' : [10,20,50,100],'n_jobs':[6]}\n",
    "\n",
    "\n"
   ]
  },
  {
   "cell_type": "code",
   "execution_count": 52,
   "id": "3a76637a",
   "metadata": {},
   "outputs": [
    {
     "name": "stderr",
     "output_type": "stream",
     "text": [
      "100%|█████████████████████████████████████████████| 4/4 [05:01<00:00, 75.47s/it]\n"
     ]
    }
   ],
   "source": [
    "rfr=RandomForestRegressor()\n",
    "test_scores=[]\n",
    "for g in tqdm(ParameterGrid(grid)):\n",
    "    rfr.set_params(**g)\n",
    "    rfr.fit(X_train,Y_train)\n",
    "    y_pred = rfr.predict(X_test)\n",
    "    test_scores.append(mean_squared_log_error(Y_test,y_pred,squared=False))"
   ]
  },
  {
   "cell_type": "code",
   "execution_count": 53,
   "id": "d77017fb",
   "metadata": {},
   "outputs": [
    {
     "data": {
      "text/plain": [
       "[0.9401234607299687,\n",
       " 0.9190864526590267,\n",
       " 0.9050756566472326,\n",
       " 0.9000582710516055]"
      ]
     },
     "execution_count": 53,
     "metadata": {},
     "output_type": "execute_result"
    }
   ],
   "source": [
    "test_scores"
   ]
  },
  {
   "cell_type": "code",
   "execution_count": 137,
   "id": "af2236b1",
   "metadata": {},
   "outputs": [],
   "source": [
    "stores = train['store_nbr'].unique()\n",
    "families = train['family'].unique()"
   ]
  },
  {
   "cell_type": "code",
   "execution_count": 221,
   "id": "6ee03159",
   "metadata": {},
   "outputs": [
    {
     "data": {
      "text/plain": [
       "0.396"
      ]
     },
     "execution_count": 221,
     "metadata": {},
     "output_type": "execute_result"
    }
   ],
   "source": [
    "len(stores)*len(families)*0.8/60/60"
   ]
  },
  {
   "cell_type": "markdown",
   "id": "54ddbd5f",
   "metadata": {},
   "source": [
    "# Parameter gird for division model"
   ]
  },
  {
   "cell_type": "code",
   "execution_count": 239,
   "id": "04914573",
   "metadata": {},
   "outputs": [
    {
     "name": "stderr",
     "output_type": "stream",
     "text": [
      "100%|███████████████████████████████████████████| 54/54 [22:15<00:00, 24.72s/it]\n"
     ]
    }
   ],
   "source": [
    "results = []\n",
    "for store in tqdm(stores):\n",
    "    for family in families:\n",
    "        store_df = train[train['store_nbr']==store].drop('store_nbr',axis=1).copy()\n",
    "        familiy_df = store_df[store_df['family']==family].drop('family',axis=1).copy()\n",
    "        X = familiy_df.iloc[:,[2,3,4,5,6,7,8,9,10,11]].values\n",
    "        Y = familiy_df.iloc[:,1].values\n",
    "\n",
    "        n_split = int(len(X)*0.8)\n",
    "\n",
    "        X_train,X_test = X[0:n_split],X[n_split:]\n",
    "        Y_train,Y_test = Y[0:n_split],Y[n_split:]\n",
    "        rfr=RandomForestRegressor(random_state=0)\n",
    "        test_scores=[]\n",
    "        for g in ParameterGrid(grid):\n",
    "            rfr.set_params(**g)\n",
    "            rfr.fit(X_train,Y_train)\n",
    "            y_pred = rfr.predict(X_test)\n",
    "            test_scores.append(mean_squared_log_error(Y_test,y_pred,squared=False))\n",
    "        best_idx=np.argmin(test_scores)\n",
    "        \n",
    "        results.append((store,family,test_scores[best_idx],ParameterGrid(grid)[best_idx]))"
   ]
  },
  {
   "cell_type": "code",
   "execution_count": 245,
   "id": "adf97a25",
   "metadata": {},
   "outputs": [],
   "source": [
    "parameters = dict(map(lambda x: (f'{x[0]}_{x[1]}',x[3]),results))"
   ]
  },
  {
   "cell_type": "markdown",
   "id": "b42f0740",
   "metadata": {},
   "source": [
    "# Full division model with fit and predict functions"
   ]
  },
  {
   "cell_type": "code",
   "execution_count": 300,
   "id": "94652fdd",
   "metadata": {},
   "outputs": [],
   "source": [
    "class SuperModel():\n",
    "    def __init__(self,parameters,stores,families,fitted_models =None):\n",
    "        self.parameters = parameters\n",
    "        self.stores = stores\n",
    "        self.families = families\n",
    "        self.models = {}\n",
    "        self.dont_fit = False\n",
    "        if fitted_models:\n",
    "            self.models = fitted_models\n",
    "            self.dont_fit = True\n",
    "    \n",
    "    def fit(self,X_train,Y_train):\n",
    "        if self.dont_fit:\n",
    "            return\n",
    "        temp_df = pd.DataFrame(X_train)\n",
    "        temp_df['label'] = Y_train\n",
    "        for store in tqdm(self.stores):\n",
    "            for family in self.families:\n",
    "                temp_df2=temp_df[temp_df[0]==store].drop(0,axis=1).copy()\n",
    "                temp_df3=temp_df2[temp_df2[1]==family].drop(1,axis=1).copy()\n",
    "                x_train = temp_df3.drop('label',axis=1).values\n",
    "                y_train = temp_df3['label'].values\n",
    "                self.models[f'{store}_{family}'] = RandomForestRegressor(random_state=0)\n",
    "                self.models[f'{store}_{family}'].set_params(**self.parameters[f'{store}_{family}'])\n",
    "                self.models[f'{store}_{family}'].fit(x_train,y_train)\n",
    "    def predict(self,X_test):\n",
    "        predictions = np.zeros(shape=(len(X_test),))\n",
    "        for i in tqdm(range(len(X_test))):\n",
    "            predictions[i]=self.models[f'{X_test[i][0]}_{X_test[i][1]}'].predict(X_test[i][2:].reshape(1,-1))\n",
    "        return predictions\n",
    "    def predict2(self,X_test):\n",
    "        return np.apply_along_axis(lambda x: self.models[f'{x[0]}_{x[1]}'].predict(x[2:].reshape(1,-1)),1,X_test)\n",
    "        \n",
    "        \n",
    "        "
   ]
  },
  {
   "cell_type": "markdown",
   "id": "87b506bd",
   "metadata": {},
   "source": [
    "# Fitting model"
   ]
  },
  {
   "cell_type": "code",
   "execution_count": 326,
   "id": "ddff4777",
   "metadata": {},
   "outputs": [
    {
     "name": "stderr",
     "output_type": "stream",
     "text": [
      "100%|███████████████████████████████████████████| 54/54 [15:12<00:00, 16.89s/it]\n"
     ]
    }
   ],
   "source": [
    "m = SuperModel(parameters,stores,families)\n",
    "m.fit(X,Y)\n",
    "fitted_models = m.models\n",
    "#y_pred = m.predict(X_test)"
   ]
  },
  {
   "cell_type": "code",
   "execution_count": 327,
   "id": "37eb2ea0",
   "metadata": {},
   "outputs": [
    {
     "data": {
      "text/html": [
       "<div>\n",
       "<style scoped>\n",
       "    .dataframe tbody tr th:only-of-type {\n",
       "        vertical-align: middle;\n",
       "    }\n",
       "\n",
       "    .dataframe tbody tr th {\n",
       "        vertical-align: top;\n",
       "    }\n",
       "\n",
       "    .dataframe thead th {\n",
       "        text-align: right;\n",
       "    }\n",
       "</style>\n",
       "<table border=\"1\" class=\"dataframe\">\n",
       "  <thead>\n",
       "    <tr style=\"text-align: right;\">\n",
       "      <th></th>\n",
       "      <th>date</th>\n",
       "      <th>store_nbr</th>\n",
       "      <th>family</th>\n",
       "      <th>sales</th>\n",
       "      <th>onpromotion</th>\n",
       "      <th>dcoilwtico</th>\n",
       "      <th>city</th>\n",
       "      <th>state</th>\n",
       "      <th>type</th>\n",
       "      <th>cluster</th>\n",
       "      <th>isHoliday</th>\n",
       "      <th>dayofyear</th>\n",
       "      <th>weekofyear</th>\n",
       "      <th>weekday</th>\n",
       "    </tr>\n",
       "    <tr>\n",
       "      <th>id</th>\n",
       "      <th></th>\n",
       "      <th></th>\n",
       "      <th></th>\n",
       "      <th></th>\n",
       "      <th></th>\n",
       "      <th></th>\n",
       "      <th></th>\n",
       "      <th></th>\n",
       "      <th></th>\n",
       "      <th></th>\n",
       "      <th></th>\n",
       "      <th></th>\n",
       "      <th></th>\n",
       "      <th></th>\n",
       "    </tr>\n",
       "  </thead>\n",
       "  <tbody>\n",
       "    <tr>\n",
       "      <th>0</th>\n",
       "      <td>2013-01-01</td>\n",
       "      <td>1</td>\n",
       "      <td>0.0</td>\n",
       "      <td>0.000</td>\n",
       "      <td>0</td>\n",
       "      <td>93.14</td>\n",
       "      <td>18.0</td>\n",
       "      <td>12.0</td>\n",
       "      <td>3.0</td>\n",
       "      <td>13</td>\n",
       "      <td>1.0</td>\n",
       "      <td>1</td>\n",
       "      <td>1</td>\n",
       "      <td>1</td>\n",
       "    </tr>\n",
       "    <tr>\n",
       "      <th>1</th>\n",
       "      <td>2013-01-01</td>\n",
       "      <td>1</td>\n",
       "      <td>1.0</td>\n",
       "      <td>0.000</td>\n",
       "      <td>0</td>\n",
       "      <td>93.14</td>\n",
       "      <td>18.0</td>\n",
       "      <td>12.0</td>\n",
       "      <td>3.0</td>\n",
       "      <td>13</td>\n",
       "      <td>1.0</td>\n",
       "      <td>1</td>\n",
       "      <td>1</td>\n",
       "      <td>1</td>\n",
       "    </tr>\n",
       "    <tr>\n",
       "      <th>2</th>\n",
       "      <td>2013-01-01</td>\n",
       "      <td>1</td>\n",
       "      <td>2.0</td>\n",
       "      <td>0.000</td>\n",
       "      <td>0</td>\n",
       "      <td>93.14</td>\n",
       "      <td>18.0</td>\n",
       "      <td>12.0</td>\n",
       "      <td>3.0</td>\n",
       "      <td>13</td>\n",
       "      <td>1.0</td>\n",
       "      <td>1</td>\n",
       "      <td>1</td>\n",
       "      <td>1</td>\n",
       "    </tr>\n",
       "    <tr>\n",
       "      <th>3</th>\n",
       "      <td>2013-01-01</td>\n",
       "      <td>1</td>\n",
       "      <td>3.0</td>\n",
       "      <td>0.000</td>\n",
       "      <td>0</td>\n",
       "      <td>93.14</td>\n",
       "      <td>18.0</td>\n",
       "      <td>12.0</td>\n",
       "      <td>3.0</td>\n",
       "      <td>13</td>\n",
       "      <td>1.0</td>\n",
       "      <td>1</td>\n",
       "      <td>1</td>\n",
       "      <td>1</td>\n",
       "    </tr>\n",
       "    <tr>\n",
       "      <th>4</th>\n",
       "      <td>2013-01-01</td>\n",
       "      <td>1</td>\n",
       "      <td>4.0</td>\n",
       "      <td>0.000</td>\n",
       "      <td>0</td>\n",
       "      <td>93.14</td>\n",
       "      <td>18.0</td>\n",
       "      <td>12.0</td>\n",
       "      <td>3.0</td>\n",
       "      <td>13</td>\n",
       "      <td>1.0</td>\n",
       "      <td>1</td>\n",
       "      <td>1</td>\n",
       "      <td>1</td>\n",
       "    </tr>\n",
       "    <tr>\n",
       "      <th>...</th>\n",
       "      <td>...</td>\n",
       "      <td>...</td>\n",
       "      <td>...</td>\n",
       "      <td>...</td>\n",
       "      <td>...</td>\n",
       "      <td>...</td>\n",
       "      <td>...</td>\n",
       "      <td>...</td>\n",
       "      <td>...</td>\n",
       "      <td>...</td>\n",
       "      <td>...</td>\n",
       "      <td>...</td>\n",
       "      <td>...</td>\n",
       "      <td>...</td>\n",
       "    </tr>\n",
       "    <tr>\n",
       "      <th>3000883</th>\n",
       "      <td>2017-08-15</td>\n",
       "      <td>9</td>\n",
       "      <td>28.0</td>\n",
       "      <td>438.133</td>\n",
       "      <td>0</td>\n",
       "      <td>47.57</td>\n",
       "      <td>18.0</td>\n",
       "      <td>12.0</td>\n",
       "      <td>1.0</td>\n",
       "      <td>6</td>\n",
       "      <td>1.0</td>\n",
       "      <td>227</td>\n",
       "      <td>33</td>\n",
       "      <td>1</td>\n",
       "    </tr>\n",
       "    <tr>\n",
       "      <th>3000884</th>\n",
       "      <td>2017-08-15</td>\n",
       "      <td>9</td>\n",
       "      <td>29.0</td>\n",
       "      <td>154.553</td>\n",
       "      <td>1</td>\n",
       "      <td>47.57</td>\n",
       "      <td>18.0</td>\n",
       "      <td>12.0</td>\n",
       "      <td>1.0</td>\n",
       "      <td>6</td>\n",
       "      <td>1.0</td>\n",
       "      <td>227</td>\n",
       "      <td>33</td>\n",
       "      <td>1</td>\n",
       "    </tr>\n",
       "    <tr>\n",
       "      <th>3000885</th>\n",
       "      <td>2017-08-15</td>\n",
       "      <td>9</td>\n",
       "      <td>30.0</td>\n",
       "      <td>2419.729</td>\n",
       "      <td>148</td>\n",
       "      <td>47.57</td>\n",
       "      <td>18.0</td>\n",
       "      <td>12.0</td>\n",
       "      <td>1.0</td>\n",
       "      <td>6</td>\n",
       "      <td>1.0</td>\n",
       "      <td>227</td>\n",
       "      <td>33</td>\n",
       "      <td>1</td>\n",
       "    </tr>\n",
       "    <tr>\n",
       "      <th>3000886</th>\n",
       "      <td>2017-08-15</td>\n",
       "      <td>9</td>\n",
       "      <td>31.0</td>\n",
       "      <td>121.000</td>\n",
       "      <td>8</td>\n",
       "      <td>47.57</td>\n",
       "      <td>18.0</td>\n",
       "      <td>12.0</td>\n",
       "      <td>1.0</td>\n",
       "      <td>6</td>\n",
       "      <td>1.0</td>\n",
       "      <td>227</td>\n",
       "      <td>33</td>\n",
       "      <td>1</td>\n",
       "    </tr>\n",
       "    <tr>\n",
       "      <th>3000887</th>\n",
       "      <td>2017-08-15</td>\n",
       "      <td>9</td>\n",
       "      <td>32.0</td>\n",
       "      <td>16.000</td>\n",
       "      <td>0</td>\n",
       "      <td>47.57</td>\n",
       "      <td>18.0</td>\n",
       "      <td>12.0</td>\n",
       "      <td>1.0</td>\n",
       "      <td>6</td>\n",
       "      <td>1.0</td>\n",
       "      <td>227</td>\n",
       "      <td>33</td>\n",
       "      <td>1</td>\n",
       "    </tr>\n",
       "  </tbody>\n",
       "</table>\n",
       "<p>3000888 rows × 14 columns</p>\n",
       "</div>"
      ],
      "text/plain": [
       "               date  store_nbr  family     sales  onpromotion  dcoilwtico  \\\n",
       "id                                                                          \n",
       "0        2013-01-01          1     0.0     0.000            0       93.14   \n",
       "1        2013-01-01          1     1.0     0.000            0       93.14   \n",
       "2        2013-01-01          1     2.0     0.000            0       93.14   \n",
       "3        2013-01-01          1     3.0     0.000            0       93.14   \n",
       "4        2013-01-01          1     4.0     0.000            0       93.14   \n",
       "...             ...        ...     ...       ...          ...         ...   \n",
       "3000883  2017-08-15          9    28.0   438.133            0       47.57   \n",
       "3000884  2017-08-15          9    29.0   154.553            1       47.57   \n",
       "3000885  2017-08-15          9    30.0  2419.729          148       47.57   \n",
       "3000886  2017-08-15          9    31.0   121.000            8       47.57   \n",
       "3000887  2017-08-15          9    32.0    16.000            0       47.57   \n",
       "\n",
       "         city  state  type  cluster  isHoliday  dayofyear  weekofyear  weekday  \n",
       "id                                                                              \n",
       "0        18.0   12.0   3.0       13        1.0          1           1        1  \n",
       "1        18.0   12.0   3.0       13        1.0          1           1        1  \n",
       "2        18.0   12.0   3.0       13        1.0          1           1        1  \n",
       "3        18.0   12.0   3.0       13        1.0          1           1        1  \n",
       "4        18.0   12.0   3.0       13        1.0          1           1        1  \n",
       "...       ...    ...   ...      ...        ...        ...         ...      ...  \n",
       "3000883  18.0   12.0   1.0        6        1.0        227          33        1  \n",
       "3000884  18.0   12.0   1.0        6        1.0        227          33        1  \n",
       "3000885  18.0   12.0   1.0        6        1.0        227          33        1  \n",
       "3000886  18.0   12.0   1.0        6        1.0        227          33        1  \n",
       "3000887  18.0   12.0   1.0        6        1.0        227          33        1  \n",
       "\n",
       "[3000888 rows x 14 columns]"
      ]
     },
     "execution_count": 327,
     "metadata": {},
     "output_type": "execute_result"
    }
   ],
   "source": [
    "train"
   ]
  },
  {
   "cell_type": "code",
   "execution_count": 321,
   "id": "ddc29c66",
   "metadata": {},
   "outputs": [
    {
     "data": {
      "text/html": [
       "<div>\n",
       "<style scoped>\n",
       "    .dataframe tbody tr th:only-of-type {\n",
       "        vertical-align: middle;\n",
       "    }\n",
       "\n",
       "    .dataframe tbody tr th {\n",
       "        vertical-align: top;\n",
       "    }\n",
       "\n",
       "    .dataframe thead th {\n",
       "        text-align: right;\n",
       "    }\n",
       "</style>\n",
       "<table border=\"1\" class=\"dataframe\">\n",
       "  <thead>\n",
       "    <tr style=\"text-align: right;\">\n",
       "      <th></th>\n",
       "      <th>date</th>\n",
       "      <th>store_nbr</th>\n",
       "      <th>family</th>\n",
       "      <th>onpromotion</th>\n",
       "      <th>dcoilwtico</th>\n",
       "      <th>city</th>\n",
       "      <th>state</th>\n",
       "      <th>type</th>\n",
       "      <th>cluster</th>\n",
       "      <th>isHoliday</th>\n",
       "      <th>dayofyear</th>\n",
       "      <th>weekofyear</th>\n",
       "      <th>weekday</th>\n",
       "    </tr>\n",
       "    <tr>\n",
       "      <th>id</th>\n",
       "      <th></th>\n",
       "      <th></th>\n",
       "      <th></th>\n",
       "      <th></th>\n",
       "      <th></th>\n",
       "      <th></th>\n",
       "      <th></th>\n",
       "      <th></th>\n",
       "      <th></th>\n",
       "      <th></th>\n",
       "      <th></th>\n",
       "      <th></th>\n",
       "      <th></th>\n",
       "    </tr>\n",
       "  </thead>\n",
       "  <tbody>\n",
       "    <tr>\n",
       "      <th>3000888</th>\n",
       "      <td>2017-08-16</td>\n",
       "      <td>1</td>\n",
       "      <td>0.0</td>\n",
       "      <td>0</td>\n",
       "      <td>46.80</td>\n",
       "      <td>18.0</td>\n",
       "      <td>12.0</td>\n",
       "      <td>3.0</td>\n",
       "      <td>13</td>\n",
       "      <td>0.0</td>\n",
       "      <td>228</td>\n",
       "      <td>33</td>\n",
       "      <td>2</td>\n",
       "    </tr>\n",
       "    <tr>\n",
       "      <th>3000889</th>\n",
       "      <td>2017-08-16</td>\n",
       "      <td>1</td>\n",
       "      <td>1.0</td>\n",
       "      <td>0</td>\n",
       "      <td>46.80</td>\n",
       "      <td>18.0</td>\n",
       "      <td>12.0</td>\n",
       "      <td>3.0</td>\n",
       "      <td>13</td>\n",
       "      <td>0.0</td>\n",
       "      <td>228</td>\n",
       "      <td>33</td>\n",
       "      <td>2</td>\n",
       "    </tr>\n",
       "    <tr>\n",
       "      <th>3000890</th>\n",
       "      <td>2017-08-16</td>\n",
       "      <td>1</td>\n",
       "      <td>2.0</td>\n",
       "      <td>2</td>\n",
       "      <td>46.80</td>\n",
       "      <td>18.0</td>\n",
       "      <td>12.0</td>\n",
       "      <td>3.0</td>\n",
       "      <td>13</td>\n",
       "      <td>0.0</td>\n",
       "      <td>228</td>\n",
       "      <td>33</td>\n",
       "      <td>2</td>\n",
       "    </tr>\n",
       "    <tr>\n",
       "      <th>3000891</th>\n",
       "      <td>2017-08-16</td>\n",
       "      <td>1</td>\n",
       "      <td>3.0</td>\n",
       "      <td>20</td>\n",
       "      <td>46.80</td>\n",
       "      <td>18.0</td>\n",
       "      <td>12.0</td>\n",
       "      <td>3.0</td>\n",
       "      <td>13</td>\n",
       "      <td>0.0</td>\n",
       "      <td>228</td>\n",
       "      <td>33</td>\n",
       "      <td>2</td>\n",
       "    </tr>\n",
       "    <tr>\n",
       "      <th>3000892</th>\n",
       "      <td>2017-08-16</td>\n",
       "      <td>1</td>\n",
       "      <td>4.0</td>\n",
       "      <td>0</td>\n",
       "      <td>46.80</td>\n",
       "      <td>18.0</td>\n",
       "      <td>12.0</td>\n",
       "      <td>3.0</td>\n",
       "      <td>13</td>\n",
       "      <td>0.0</td>\n",
       "      <td>228</td>\n",
       "      <td>33</td>\n",
       "      <td>2</td>\n",
       "    </tr>\n",
       "    <tr>\n",
       "      <th>...</th>\n",
       "      <td>...</td>\n",
       "      <td>...</td>\n",
       "      <td>...</td>\n",
       "      <td>...</td>\n",
       "      <td>...</td>\n",
       "      <td>...</td>\n",
       "      <td>...</td>\n",
       "      <td>...</td>\n",
       "      <td>...</td>\n",
       "      <td>...</td>\n",
       "      <td>...</td>\n",
       "      <td>...</td>\n",
       "      <td>...</td>\n",
       "    </tr>\n",
       "    <tr>\n",
       "      <th>3029395</th>\n",
       "      <td>2017-08-31</td>\n",
       "      <td>9</td>\n",
       "      <td>28.0</td>\n",
       "      <td>1</td>\n",
       "      <td>47.26</td>\n",
       "      <td>18.0</td>\n",
       "      <td>12.0</td>\n",
       "      <td>1.0</td>\n",
       "      <td>6</td>\n",
       "      <td>0.0</td>\n",
       "      <td>243</td>\n",
       "      <td>35</td>\n",
       "      <td>3</td>\n",
       "    </tr>\n",
       "    <tr>\n",
       "      <th>3029396</th>\n",
       "      <td>2017-08-31</td>\n",
       "      <td>9</td>\n",
       "      <td>29.0</td>\n",
       "      <td>0</td>\n",
       "      <td>47.26</td>\n",
       "      <td>18.0</td>\n",
       "      <td>12.0</td>\n",
       "      <td>1.0</td>\n",
       "      <td>6</td>\n",
       "      <td>0.0</td>\n",
       "      <td>243</td>\n",
       "      <td>35</td>\n",
       "      <td>3</td>\n",
       "    </tr>\n",
       "    <tr>\n",
       "      <th>3029397</th>\n",
       "      <td>2017-08-31</td>\n",
       "      <td>9</td>\n",
       "      <td>30.0</td>\n",
       "      <td>1</td>\n",
       "      <td>47.26</td>\n",
       "      <td>18.0</td>\n",
       "      <td>12.0</td>\n",
       "      <td>1.0</td>\n",
       "      <td>6</td>\n",
       "      <td>0.0</td>\n",
       "      <td>243</td>\n",
       "      <td>35</td>\n",
       "      <td>3</td>\n",
       "    </tr>\n",
       "    <tr>\n",
       "      <th>3029398</th>\n",
       "      <td>2017-08-31</td>\n",
       "      <td>9</td>\n",
       "      <td>31.0</td>\n",
       "      <td>9</td>\n",
       "      <td>47.26</td>\n",
       "      <td>18.0</td>\n",
       "      <td>12.0</td>\n",
       "      <td>1.0</td>\n",
       "      <td>6</td>\n",
       "      <td>0.0</td>\n",
       "      <td>243</td>\n",
       "      <td>35</td>\n",
       "      <td>3</td>\n",
       "    </tr>\n",
       "    <tr>\n",
       "      <th>3029399</th>\n",
       "      <td>2017-08-31</td>\n",
       "      <td>9</td>\n",
       "      <td>32.0</td>\n",
       "      <td>0</td>\n",
       "      <td>47.26</td>\n",
       "      <td>18.0</td>\n",
       "      <td>12.0</td>\n",
       "      <td>1.0</td>\n",
       "      <td>6</td>\n",
       "      <td>0.0</td>\n",
       "      <td>243</td>\n",
       "      <td>35</td>\n",
       "      <td>3</td>\n",
       "    </tr>\n",
       "  </tbody>\n",
       "</table>\n",
       "<p>28512 rows × 13 columns</p>\n",
       "</div>"
      ],
      "text/plain": [
       "               date  store_nbr  family  onpromotion  dcoilwtico  city  state  \\\n",
       "id                                                                             \n",
       "3000888  2017-08-16          1     0.0            0       46.80  18.0   12.0   \n",
       "3000889  2017-08-16          1     1.0            0       46.80  18.0   12.0   \n",
       "3000890  2017-08-16          1     2.0            2       46.80  18.0   12.0   \n",
       "3000891  2017-08-16          1     3.0           20       46.80  18.0   12.0   \n",
       "3000892  2017-08-16          1     4.0            0       46.80  18.0   12.0   \n",
       "...             ...        ...     ...          ...         ...   ...    ...   \n",
       "3029395  2017-08-31          9    28.0            1       47.26  18.0   12.0   \n",
       "3029396  2017-08-31          9    29.0            0       47.26  18.0   12.0   \n",
       "3029397  2017-08-31          9    30.0            1       47.26  18.0   12.0   \n",
       "3029398  2017-08-31          9    31.0            9       47.26  18.0   12.0   \n",
       "3029399  2017-08-31          9    32.0            0       47.26  18.0   12.0   \n",
       "\n",
       "         type  cluster  isHoliday  dayofyear  weekofyear  weekday  \n",
       "id                                                                 \n",
       "3000888   3.0       13        0.0        228          33        2  \n",
       "3000889   3.0       13        0.0        228          33        2  \n",
       "3000890   3.0       13        0.0        228          33        2  \n",
       "3000891   3.0       13        0.0        228          33        2  \n",
       "3000892   3.0       13        0.0        228          33        2  \n",
       "...       ...      ...        ...        ...         ...      ...  \n",
       "3029395   1.0        6        0.0        243          35        3  \n",
       "3029396   1.0        6        0.0        243          35        3  \n",
       "3029397   1.0        6        0.0        243          35        3  \n",
       "3029398   1.0        6        0.0        243          35        3  \n",
       "3029399   1.0        6        0.0        243          35        3  \n",
       "\n",
       "[28512 rows x 13 columns]"
      ]
     },
     "execution_count": 321,
     "metadata": {},
     "output_type": "execute_result"
    }
   ],
   "source": [
    "test"
   ]
  },
  {
   "cell_type": "markdown",
   "id": "f32465ba",
   "metadata": {},
   "source": [
    "# Loading preprocessed test dataframe"
   ]
  },
  {
   "cell_type": "code",
   "execution_count": 332,
   "id": "369fe2c6",
   "metadata": {},
   "outputs": [],
   "source": [
    "test = pd.read_parquet('test_preprocessed.parquet')\n",
    "test['dcoilwtico'] = test['dcoilwtico'].fillna(method='bfill')\n",
    "X = test.iloc[:,[1,2,3,4,5,6,7,8,9,10,11,12]].values\n"
   ]
  },
  {
   "cell_type": "code",
   "execution_count": 333,
   "id": "480409e5",
   "metadata": {},
   "outputs": [
    {
     "name": "stderr",
     "output_type": "stream",
     "text": [
      "100%|████████████████████████████████████| 28512/28512 [02:58<00:00, 159.79it/s]\n"
     ]
    }
   ],
   "source": [
    "y_pred = m.predict(X)"
   ]
  },
  {
   "cell_type": "code",
   "execution_count": 339,
   "id": "174f5ed0",
   "metadata": {},
   "outputs": [],
   "source": [
    "df = pd.DataFrame(index=test.index)"
   ]
  },
  {
   "cell_type": "code",
   "execution_count": 340,
   "id": "a39826b0",
   "metadata": {},
   "outputs": [],
   "source": [
    "df['sales'] = y_pred"
   ]
  },
  {
   "cell_type": "markdown",
   "id": "d2cea553",
   "metadata": {},
   "source": [
    "# Saving submission file"
   ]
  },
  {
   "cell_type": "code",
   "execution_count": 341,
   "id": "b6e09ea5",
   "metadata": {},
   "outputs": [],
   "source": [
    "df.to_csv('results.csv')"
   ]
  },
  {
   "cell_type": "code",
   "execution_count": 216,
   "id": "80d6ac0d",
   "metadata": {},
   "outputs": [],
   "source": [
    "store_1 = train[train['store_nbr']==5].drop('store_nbr',axis=1).copy()\n",
    "familiy_30 = store_1[store_1['family']==6].drop('family',axis=1).copy()"
   ]
  },
  {
   "cell_type": "code",
   "execution_count": 217,
   "id": "32013ff1",
   "metadata": {},
   "outputs": [],
   "source": [
    "X = familiy_30.iloc[:,[2,3,4,5,6,7,8,9,10,11]].values\n",
    "Y = familiy_30.iloc[:,1].values\n",
    "\n",
    "n_split = int(len(X)*0.8)\n",
    "\n",
    "X_train,X_test = X[0:n_split],X[n_split:]\n",
    "Y_train,Y_test = Y[0:n_split],Y[n_split:]"
   ]
  },
  {
   "cell_type": "code",
   "execution_count": 225,
   "id": "be27d88f",
   "metadata": {},
   "outputs": [],
   "source": [
    "grid={'max_depth':[1,2,3,4,5,6,7,8],'n_jobs':[6]}"
   ]
  },
  {
   "cell_type": "code",
   "execution_count": 233,
   "id": "d02cc29d",
   "metadata": {},
   "outputs": [
    {
     "name": "stderr",
     "output_type": "stream",
     "text": [
      "100%|█████████████████████████████████████████████| 8/8 [00:00<00:00, 10.31it/s]"
     ]
    },
    {
     "name": "stdout",
     "output_type": "stream",
     "text": [
      "0.5324297828468002 {'n_jobs': 6, 'max_depth': 1}\n"
     ]
    },
    {
     "name": "stderr",
     "output_type": "stream",
     "text": [
      "\n"
     ]
    }
   ],
   "source": [
    "rfr=RandomForestRegressor(random_state=0)\n",
    "test_scores=[]\n",
    "for g in tqdm(ParameterGrid(grid)):\n",
    "    rfr.set_params(**g)\n",
    "    rfr.fit(X_train,Y_train)\n",
    "    y_pred = rfr.predict(X_test)\n",
    "    test_scores.append(mean_squared_log_error(Y_test,y_pred,squared=False))\n",
    "best_idx=np.argmin(test_scores)\n",
    "print(test_scores[best_idx],ParameterGrid(grid)[best_idx])"
   ]
  },
  {
   "cell_type": "code",
   "execution_count": 227,
   "id": "e15aa595",
   "metadata": {},
   "outputs": [
    {
     "name": "stdout",
     "output_type": "stream",
     "text": [
      "0.5555400341792555 {'n_jobs': 6, 'max_depth': 1}\n",
      "0.5484211342372203 {'n_jobs': 6, 'max_depth': 2}\n",
      "1.147917498978505 {'n_jobs': 6, 'max_depth': 3}\n",
      "1.396907200797871 {'n_jobs': 6, 'max_depth': 4}\n",
      "1.5843235869205856 {'n_jobs': 6, 'max_depth': 5}\n",
      "1.6497277548434321 {'n_jobs': 6, 'max_depth': 6}\n",
      "1.6545179726212278 {'n_jobs': 6, 'max_depth': 7}\n",
      "1.6549710720472761 {'n_jobs': 6, 'max_depth': 8}\n"
     ]
    }
   ],
   "source": [
    "for i in range(len(test_scores)):\n",
    "    print(test_scores[i],ParameterGrid(grid)[i])"
   ]
  },
  {
   "cell_type": "code",
   "execution_count": 89,
   "id": "899ff08e",
   "metadata": {},
   "outputs": [
    {
     "data": {
      "text/plain": [
       "array([[0, 93.14, 18.0, ..., 1, 1, 1],\n",
       "       [0, 93.14, 18.0, ..., 2, 1, 2],\n",
       "       [0, 92.97, 18.0, ..., 3, 1, 3],\n",
       "       ...,\n",
       "       [7, 47.59, 18.0, ..., 225, 32, 6],\n",
       "       [7, 47.59, 18.0, ..., 226, 33, 0],\n",
       "       [148, 47.57, 18.0, ..., 227, 33, 1]], dtype=object)"
      ]
     },
     "execution_count": 89,
     "metadata": {},
     "output_type": "execute_result"
    }
   ],
   "source": [
    "X"
   ]
  },
  {
   "cell_type": "code",
   "execution_count": null,
   "id": "8488a02c",
   "metadata": {},
   "outputs": [],
   "source": []
  }
 ],
 "metadata": {
  "kernelspec": {
   "display_name": "Python 3 (ipykernel)",
   "language": "python",
   "name": "python3"
  },
  "language_info": {
   "codemirror_mode": {
    "name": "ipython",
    "version": 3
   },
   "file_extension": ".py",
   "mimetype": "text/x-python",
   "name": "python",
   "nbconvert_exporter": "python",
   "pygments_lexer": "ipython3",
   "version": "3.9.12"
  }
 },
 "nbformat": 4,
 "nbformat_minor": 5
}
